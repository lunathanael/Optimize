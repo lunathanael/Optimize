{
 "cells": [
  {
   "cell_type": "code",
   "execution_count": 1,
   "id": "cffdd5f6",
   "metadata": {
    "_cell_guid": "b1076dfc-b9ad-4769-8c92-a6c4dae69d19",
    "_uuid": "8f2839f25d086af736a60e9eeb907d3b93b6e0e5",
    "execution": {
     "iopub.execute_input": "2023-11-13T01:10:15.876621Z",
     "iopub.status.busy": "2023-11-13T01:10:15.876188Z",
     "iopub.status.idle": "2023-11-13T01:10:16.583637Z",
     "shell.execute_reply": "2023-11-13T01:10:16.582836Z"
    },
    "papermill": {
     "duration": 0.715012,
     "end_time": "2023-11-13T01:10:16.586081",
     "exception": false,
     "start_time": "2023-11-13T01:10:15.871069",
     "status": "completed"
    },
    "tags": []
   },
   "outputs": [],
   "source": [
    "# lib import\n",
    "import numpy as np\n",
    "import pandas as pd\n",
    "TRAINING = False"
   ]
  },
  {
   "cell_type": "code",
   "execution_count": 2,
   "id": "cd542682",
   "metadata": {
    "execution": {
     "iopub.execute_input": "2023-11-13T01:10:16.596620Z",
     "iopub.status.busy": "2023-11-13T01:10:16.595091Z",
     "iopub.status.idle": "2023-11-13T01:10:16.605383Z",
     "shell.execute_reply": "2023-11-13T01:10:16.604287Z"
    },
    "papermill": {
     "duration": 0.01712,
     "end_time": "2023-11-13T01:10:16.608132",
     "exception": false,
     "start_time": "2023-11-13T01:10:16.591012",
     "status": "completed"
    },
    "tags": []
   },
   "outputs": [],
   "source": [
    "def generate_features(df):\n",
    "    features = ['seconds_in_bucket', 'imbalance_buy_sell_flag',\n",
    "               'imbalance_size', 'matched_size', 'bid_size', 'ask_size',\n",
    "                'reference_price','far_price', 'near_price', 'ask_price', 'bid_price', 'wap',\n",
    "                'imb_s1', 'imb_s2', 'prev_target'\n",
    "               ]\n",
    "\n",
    "    df['imb_s1'] = df.eval('(bid_size-ask_size)/(bid_size+ask_size)')\n",
    "    df['imb_s2'] = df.eval('(imbalance_size-matched_size)/(matched_size+imbalance_size)')\n",
    "\n",
    "    prices = ['reference_price','far_price', 'near_price', 'ask_price', 'bid_price', 'wap','prev_target']\n",
    "\n",
    "    for i,a in enumerate(prices):\n",
    "        for j,b in enumerate(prices):\n",
    "            if i>j:\n",
    "                df[f'{a}_{b}_imb'] = df.eval(f'({a}-{b})/({a}+{b})')\n",
    "                features.append(f'{a}_{b}_imb')\n",
    "\n",
    "    for i,a in enumerate(prices):\n",
    "        for j,b in enumerate(prices):\n",
    "            for k,c in enumerate(prices):\n",
    "                if i>j and j>k:\n",
    "                    max_ = df[[a,b,c]].max(axis=1)\n",
    "                    min_ = df[[a,b,c]].min(axis=1)\n",
    "                    mid_ = df[[a,b,c]].sum(axis=1)-min_-max_\n",
    "\n",
    "                    df[f'{a}_{b}_{c}_imb2'] = (max_-mid_)/(mid_-min_)\n",
    "                    features.append(f'{a}_{b}_{c}_imb2')\n",
    "\n",
    "    return df[features]"
   ]
  },
  {
   "cell_type": "code",
   "execution_count": 3,
   "id": "a3f7687d",
   "metadata": {
    "execution": {
     "iopub.execute_input": "2023-11-13T01:10:16.615369Z",
     "iopub.status.busy": "2023-11-13T01:10:16.615091Z",
     "iopub.status.idle": "2023-11-13T01:10:16.621732Z",
     "shell.execute_reply": "2023-11-13T01:10:16.620346Z"
    },
    "papermill": {
     "duration": 0.012489,
     "end_time": "2023-11-13T01:10:16.623906",
     "exception": false,
     "start_time": "2023-11-13T01:10:16.611417",
     "status": "completed"
    },
    "tags": []
   },
   "outputs": [],
   "source": [
    "# fix data\n",
    "def add_targets(df):\n",
    "    result = df[df['seconds_in_bucket']==540].copy(deep=True)\n",
    "    result['date_id'] = result['date_id'] + 1\n",
    "    result = result[['stock_id', 'date_id', 'target']]\n",
    "    result = result.rename(columns={'target': 'prev_target'})\n",
    "\n",
    "    df = df.merge(result, on=['stock_id', 'date_id'], how='left')\n",
    "    return df"
   ]
  },
  {
   "cell_type": "code",
   "execution_count": 4,
   "id": "5c59d9c4",
   "metadata": {
    "execution": {
     "iopub.execute_input": "2023-11-13T01:10:16.631104Z",
     "iopub.status.busy": "2023-11-13T01:10:16.630732Z",
     "iopub.status.idle": "2023-11-13T01:10:16.636455Z",
     "shell.execute_reply": "2023-11-13T01:10:16.635405Z"
    },
    "papermill": {
     "duration": 0.012359,
     "end_time": "2023-11-13T01:10:16.639134",
     "exception": false,
     "start_time": "2023-11-13T01:10:16.626775",
     "status": "completed"
    },
    "tags": []
   },
   "outputs": [],
   "source": [
    "def add_targets_test(tdf, rdf):\n",
    "    result = rdf.groupby(['stock_id', 'date_id']).agg(\n",
    "    prev_target=('revealed_target', 'last')\n",
    "    ).reset_index()\n",
    "\n",
    "    tdf = tdf.merge(result, on=['stock_id', 'date_id'], how='left')\n",
    "    \n",
    "    tdf['prev_target'] = tdf['prev_target'].astype('float64')\n",
    "    return tdf"
   ]
  },
  {
   "cell_type": "code",
   "execution_count": 5,
   "id": "e38390cf",
   "metadata": {
    "execution": {
     "iopub.execute_input": "2023-11-13T01:10:16.646725Z",
     "iopub.status.busy": "2023-11-13T01:10:16.646276Z",
     "iopub.status.idle": "2023-11-13T01:10:16.652340Z",
     "shell.execute_reply": "2023-11-13T01:10:16.651340Z"
    },
    "papermill": {
     "duration": 0.012357,
     "end_time": "2023-11-13T01:10:16.654264",
     "exception": false,
     "start_time": "2023-11-13T01:10:16.641907",
     "status": "completed"
    },
    "tags": []
   },
   "outputs": [],
   "source": [
    "if TRAINING:\n",
    "    df = pd.read_csv('/kaggle/input/optiver-trading-at-the-close/train.csv')\n",
    "    #df.loc[:, 'prev_target'] = np.nan\n",
    "    \n",
    "    df = add_targets(df)\n",
    "    \n",
    "    X = generate_features(df).values\n",
    "    Y = df['target'].values\n",
    "    \n",
    "    X = X[np.isfinite(Y)]\n",
    "    Y = Y[np.isfinite(Y)]\n",
    "    \n",
    "    index = np.arange(len(X))"
   ]
  },
  {
   "cell_type": "code",
   "execution_count": 6,
   "id": "a2ae004b",
   "metadata": {
    "execution": {
     "iopub.execute_input": "2023-11-13T01:10:16.660860Z",
     "iopub.status.busy": "2023-11-13T01:10:16.660550Z",
     "iopub.status.idle": "2023-11-13T01:10:21.268709Z",
     "shell.execute_reply": "2023-11-13T01:10:21.267665Z"
    },
    "papermill": {
     "duration": 4.614602,
     "end_time": "2023-11-13T01:10:21.271486",
     "exception": false,
     "start_time": "2023-11-13T01:10:16.656884",
     "status": "completed"
    },
    "tags": []
   },
   "outputs": [],
   "source": [
    "import lightgbm as lgb \n",
    "import joblib\n",
    "import os\n",
    "\n",
    "\n",
    "models = []\n",
    "\n",
    "# test to train ratio\n",
    "N_fold = 5\n",
    "\n",
    "os.system('mkdir models')\n",
    "\n",
    "#model_path ='/kaggle/input/testing_data_set/models'\n",
    "model_path ='/kaggle/input/optimize'\n",
    "\n",
    "def train(model_dict, modelname='lgbm'):\n",
    "    if TRAINING:\n",
    "        model = model_dict[modelname]\n",
    "        model.fit(X[index%N_fold!=i], Y[index%N_fold!=i],\n",
    "          eval_set=(X[index%N_fold==i], Y[index%N_fold==i]),\n",
    "          early_stopping_rounds=100,\n",
    "          verbose = 10\n",
    "         )\n",
    "        models.append(model)\n",
    "        joblib.dump(model, f'./models/{modelname}_{i}.model')\n",
    "    else:\n",
    "        models.append(joblib.load(f'{model_path}/{modelname}_{i}.model'))\n",
    "\n",
    "\n",
    "        \n",
    "model_dict = {\n",
    "    'lgbm': lgb.LGBMRegressor(objective='regression_l1',\n",
    "                           colsample_bytree=0.7019911744574896,\n",
    "                           learning_rate=0.022635758411078528,\n",
    "                           max_bin=511,\n",
    "                           min_child_samples=2,\n",
    "                           n_estimators=4797,\n",
    "                           num_leaves=122,\n",
    "                           reg_alpha=0.004252223402511765,\n",
    "                           reg_lambda=0.11288241427227624\n",
    "                          )\n",
    "}\n",
    "for i in range(N_fold):\n",
    "    train(model_dict, 'lgbm')"
   ]
  },
  {
   "cell_type": "code",
   "execution_count": 7,
   "id": "aabd7afd",
   "metadata": {
    "execution": {
     "iopub.execute_input": "2023-11-13T01:10:21.280620Z",
     "iopub.status.busy": "2023-11-13T01:10:21.280087Z",
     "iopub.status.idle": "2023-11-13T01:10:21.361172Z",
     "shell.execute_reply": "2023-11-13T01:10:21.360302Z"
    },
    "papermill": {
     "duration": 0.088863,
     "end_time": "2023-11-13T01:10:21.363435",
     "exception": false,
     "start_time": "2023-11-13T01:10:21.274572",
     "status": "completed"
    },
    "tags": []
   },
   "outputs": [],
   "source": [
    "import optiver2023\n",
    "env = optiver2023.make_env()\n",
    "iter_test = env.iter_test()"
   ]
  },
  {
   "cell_type": "code",
   "execution_count": 8,
   "id": "e82a5ef9",
   "metadata": {
    "execution": {
     "iopub.execute_input": "2023-11-13T01:10:21.370640Z",
     "iopub.status.busy": "2023-11-13T01:10:21.369463Z",
     "iopub.status.idle": "2023-11-13T01:11:00.410973Z",
     "shell.execute_reply": "2023-11-13T01:11:00.409511Z"
    },
    "papermill": {
     "duration": 39.047602,
     "end_time": "2023-11-13T01:11:00.413611",
     "exception": false,
     "start_time": "2023-11-13T01:10:21.366009",
     "status": "completed"
    },
    "tags": []
   },
   "outputs": [
    {
     "name": "stdout",
     "output_type": "stream",
     "text": [
      "This version of the API is not optimized and should not be used to estimate the runtime of your code on the hidden test set.\n"
     ]
    }
   ],
   "source": [
    "for (test, revealed_targets, sample_prediction) in iter_test:\n",
    "    st = test.sort_values(['stock_id', 'date_id', 'seconds_in_bucket']).copy(deep=True)\n",
    "    st = add_targets_test(st, revealed_targets)\n",
    "    \n",
    "    feat = generate_features(st)\n",
    "    \n",
    "    pred = (np.mean([model.predict(feat.values) for model in models], 0))\n",
    "    sample_prediction['target'] = pred\n",
    "    env.predict(sample_prediction)"
   ]
  }
 ],
 "metadata": {
  "kernelspec": {
   "display_name": "Python 3",
   "language": "python",
   "name": "python3"
  },
  "language_info": {
   "codemirror_mode": {
    "name": "ipython",
    "version": 3
   },
   "file_extension": ".py",
   "mimetype": "text/x-python",
   "name": "python",
   "nbconvert_exporter": "python",
   "pygments_lexer": "ipython3",
   "version": "3.10.12"
  },
  "papermill": {
   "default_parameters": {},
   "duration": 48.768786,
   "end_time": "2023-11-13T01:11:01.338069",
   "environment_variables": {},
   "exception": null,
   "input_path": "__notebook__.ipynb",
   "output_path": "__notebook__.ipynb",
   "parameters": {},
   "start_time": "2023-11-13T01:10:12.569283",
   "version": "2.4.0"
  }
 },
 "nbformat": 4,
 "nbformat_minor": 5
}
