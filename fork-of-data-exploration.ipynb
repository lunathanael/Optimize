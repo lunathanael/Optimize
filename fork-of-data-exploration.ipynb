{
 "cells": [
  {
   "cell_type": "code",
   "execution_count": 1,
   "id": "71fd5398",
   "metadata": {
    "_cell_guid": "b1076dfc-b9ad-4769-8c92-a6c4dae69d19",
    "_uuid": "8f2839f25d086af736a60e9eeb907d3b93b6e0e5",
    "execution": {
     "iopub.execute_input": "2023-11-12T20:57:13.837973Z",
     "iopub.status.busy": "2023-11-12T20:57:13.837556Z",
     "iopub.status.idle": "2023-11-12T20:57:14.861189Z",
     "shell.execute_reply": "2023-11-12T20:57:14.860124Z"
    },
    "papermill": {
     "duration": 1.033628,
     "end_time": "2023-11-12T20:57:14.864309",
     "exception": false,
     "start_time": "2023-11-12T20:57:13.830681",
     "status": "completed"
    },
    "tags": []
   },
   "outputs": [],
   "source": [
    "# lib import\n",
    "import numpy as np\n",
    "import pandas as pd\n",
    "TRAINING = False"
   ]
  },
  {
   "cell_type": "code",
   "execution_count": 2,
   "id": "61e86330",
   "metadata": {
    "execution": {
     "iopub.execute_input": "2023-11-12T20:57:14.880729Z",
     "iopub.status.busy": "2023-11-12T20:57:14.879903Z",
     "iopub.status.idle": "2023-11-12T20:57:14.895311Z",
     "shell.execute_reply": "2023-11-12T20:57:14.893994Z"
    },
    "papermill": {
     "duration": 0.026706,
     "end_time": "2023-11-12T20:57:14.899003",
     "exception": false,
     "start_time": "2023-11-12T20:57:14.872297",
     "status": "completed"
    },
    "tags": []
   },
   "outputs": [],
   "source": [
    "def generate_features(df):\n",
    "    features = ['seconds_in_bucket', 'imbalance_buy_sell_flag',\n",
    "               'imbalance_size', 'matched_size', 'bid_size', 'ask_size',\n",
    "                'reference_price','far_price', 'near_price', 'ask_price', 'bid_price', 'wap',\n",
    "                'imb_s1', 'imb_s2', 'prev_target'\n",
    "               ]\n",
    "\n",
    "    df['imb_s1'] = df.eval('(bid_size-ask_size)/(bid_size+ask_size)')\n",
    "    df['imb_s2'] = df.eval('(imbalance_size-matched_size)/(matched_size+imbalance_size)')\n",
    "\n",
    "    prices = ['reference_price','far_price', 'near_price', 'ask_price', 'bid_price', 'wap','prev_target']\n",
    "\n",
    "    for i,a in enumerate(prices):\n",
    "        for j,b in enumerate(prices):\n",
    "            if i>j:\n",
    "                df[f'{a}_{b}_imb'] = df.eval(f'({a}-{b})/({a}+{b})')\n",
    "                features.append(f'{a}_{b}_imb')\n",
    "\n",
    "    for i,a in enumerate(prices):\n",
    "        for j,b in enumerate(prices):\n",
    "            for k,c in enumerate(prices):\n",
    "                if i>j and j>k:\n",
    "                    max_ = df[[a,b,c]].max(axis=1)\n",
    "                    min_ = df[[a,b,c]].min(axis=1)\n",
    "                    mid_ = df[[a,b,c]].sum(axis=1)-min_-max_\n",
    "\n",
    "                    df[f'{a}_{b}_{c}_imb2'] = (max_-mid_)/(mid_-min_)\n",
    "                    features.append(f'{a}_{b}_{c}_imb2')\n",
    "\n",
    "    return df[features]"
   ]
  },
  {
   "cell_type": "code",
   "execution_count": 3,
   "id": "c57d1bcc",
   "metadata": {
    "execution": {
     "iopub.execute_input": "2023-11-12T20:57:14.912499Z",
     "iopub.status.busy": "2023-11-12T20:57:14.911949Z",
     "iopub.status.idle": "2023-11-12T20:57:14.922732Z",
     "shell.execute_reply": "2023-11-12T20:57:14.920786Z"
    },
    "papermill": {
     "duration": 0.021392,
     "end_time": "2023-11-12T20:57:14.925953",
     "exception": false,
     "start_time": "2023-11-12T20:57:14.904561",
     "status": "completed"
    },
    "tags": []
   },
   "outputs": [],
   "source": [
    "# fix data\n",
    "def add_targets(df):\n",
    "    result = df[df['seconds_in_bucket']==540].copy(deep=True)\n",
    "    result['date_id'] = result['date_id'] + 1\n",
    "    result = result[['stock_id', 'date_id', 'target']]\n",
    "    result = result.rename(columns={'target': 'prev_target'})\n",
    "\n",
    "    df = df.merge(result, on=['stock_id', 'date_id'], how='left')\n",
    "    return df"
   ]
  },
  {
   "cell_type": "code",
   "execution_count": 4,
   "id": "84d771f4",
   "metadata": {
    "execution": {
     "iopub.execute_input": "2023-11-12T20:57:14.935636Z",
     "iopub.status.busy": "2023-11-12T20:57:14.934974Z",
     "iopub.status.idle": "2023-11-12T20:57:14.941553Z",
     "shell.execute_reply": "2023-11-12T20:57:14.940402Z"
    },
    "papermill": {
     "duration": 0.013849,
     "end_time": "2023-11-12T20:57:14.943763",
     "exception": false,
     "start_time": "2023-11-12T20:57:14.929914",
     "status": "completed"
    },
    "tags": []
   },
   "outputs": [],
   "source": [
    "def add_targets_test(tdf, rdf):\n",
    "    result = rdf.groupby(['stock_id', 'date_id']).agg(\n",
    "    prev_target=('revealed_target', 'last')\n",
    "    ).reset_index()\n",
    "\n",
    "    tdf = tdf.merge(result, on=['stock_id', 'date_id'], how='left')\n",
    "    \n",
    "    tdf['prev_target'] = tdf['prev_target'].astype('float64')\n",
    "    return tdf"
   ]
  },
  {
   "cell_type": "code",
   "execution_count": 5,
   "id": "1cc3a1ca",
   "metadata": {
    "execution": {
     "iopub.execute_input": "2023-11-12T20:57:14.952762Z",
     "iopub.status.busy": "2023-11-12T20:57:14.952380Z",
     "iopub.status.idle": "2023-11-12T20:57:14.958395Z",
     "shell.execute_reply": "2023-11-12T20:57:14.957304Z"
    },
    "papermill": {
     "duration": 0.01329,
     "end_time": "2023-11-12T20:57:14.960762",
     "exception": false,
     "start_time": "2023-11-12T20:57:14.947472",
     "status": "completed"
    },
    "tags": []
   },
   "outputs": [],
   "source": [
    "if TRAINING:\n",
    "    df = pd.read_csv('/kaggle/input/optiver-trading-at-the-close/train.csv')\n",
    "    #df.loc[:, 'prev_target'] = np.nan\n",
    "    \n",
    "    df = add_targets(df)\n",
    "    \n",
    "    X = generate_features(df).values\n",
    "    Y = df['target'].values\n",
    "    \n",
    "    X = X[np.isfinite(Y)]\n",
    "    Y = Y[np.isfinite(Y)]\n",
    "    \n",
    "    index = np.arange(len(X))"
   ]
  },
  {
   "cell_type": "code",
   "execution_count": 6,
   "id": "2c9305e8",
   "metadata": {
    "execution": {
     "iopub.execute_input": "2023-11-12T20:57:14.970439Z",
     "iopub.status.busy": "2023-11-12T20:57:14.969763Z",
     "iopub.status.idle": "2023-11-12T20:57:18.397278Z",
     "shell.execute_reply": "2023-11-12T20:57:18.395941Z"
    },
    "papermill": {
     "duration": 3.43563,
     "end_time": "2023-11-12T20:57:18.400300",
     "exception": false,
     "start_time": "2023-11-12T20:57:14.964670",
     "status": "completed"
    },
    "tags": []
   },
   "outputs": [],
   "source": [
    "import lightgbm as lgb \n",
    "import joblib\n",
    "import os\n",
    "\n",
    "\n",
    "models = []\n",
    "\n",
    "# test to train ratio\n",
    "N_fold = 5\n",
    "\n",
    "os.system('mkdir models')\n",
    "\n",
    "#model_path ='/kaggle/input/testing_data_set/models'\n",
    "model_path ='/kaggle/input/optimize'\n",
    "\n",
    "def train(model_dict, modelname='lgbm'):\n",
    "    if TRAINING:\n",
    "        model = model_dict[modelname]\n",
    "        model.fit(X[index%N_fold!=i], Y[index%N_fold!=i],\n",
    "          eval_set=(X[index%N_fold==i], Y[index%N_fold==i]),\n",
    "          early_stopping_rounds=100,\n",
    "          verbose = 10\n",
    "         )\n",
    "        models.append(model)\n",
    "        joblib.dump(model, f'./models/{modelname}_{i}.model')\n",
    "    else:\n",
    "        models.append(joblib.load(f'{model_path}/{modelname}_{i}.model'))\n",
    "\n",
    "\n",
    "        \n",
    "model_dict = {\n",
    "    'lgbm': lgb.LGBMRegressor(objective='regression_l1',\n",
    "                           n_estimators=710,\n",
    "                          ),\n",
    "}\n",
    "for i in range(N_fold):\n",
    "    train(model_dict, 'lgbm')"
   ]
  },
  {
   "cell_type": "code",
   "execution_count": 7,
   "id": "0a7b237b",
   "metadata": {
    "execution": {
     "iopub.execute_input": "2023-11-12T20:57:18.411964Z",
     "iopub.status.busy": "2023-11-12T20:57:18.410681Z",
     "iopub.status.idle": "2023-11-12T20:57:18.438771Z",
     "shell.execute_reply": "2023-11-12T20:57:18.437626Z"
    },
    "papermill": {
     "duration": 0.036829,
     "end_time": "2023-11-12T20:57:18.441916",
     "exception": false,
     "start_time": "2023-11-12T20:57:18.405087",
     "status": "completed"
    },
    "tags": []
   },
   "outputs": [],
   "source": [
    "import optiver2023\n",
    "env = optiver2023.make_env()\n",
    "iter_test = env.iter_test()"
   ]
  },
  {
   "cell_type": "code",
   "execution_count": 8,
   "id": "fdf6b046",
   "metadata": {
    "execution": {
     "iopub.execute_input": "2023-11-12T20:57:18.454671Z",
     "iopub.status.busy": "2023-11-12T20:57:18.451976Z",
     "iopub.status.idle": "2023-11-12T20:58:05.195232Z",
     "shell.execute_reply": "2023-11-12T20:58:05.194056Z"
    },
    "papermill": {
     "duration": 46.752276,
     "end_time": "2023-11-12T20:58:05.198297",
     "exception": false,
     "start_time": "2023-11-12T20:57:18.446021",
     "status": "completed"
    },
    "tags": []
   },
   "outputs": [
    {
     "name": "stdout",
     "output_type": "stream",
     "text": [
      "This version of the API is not optimized and should not be used to estimate the runtime of your code on the hidden test set.\n"
     ]
    }
   ],
   "source": [
    "for (test, revealed_targets, sample_prediction) in iter_test:\n",
    "    l = len(test)\n",
    "    st = test.sort_values(['stock_id', 'date_id', 'seconds_in_bucket']).copy(deep=True)\n",
    "    st = add_targets_test(st, revealed_targets)\n",
    "    \n",
    "    feat = generate_features(st)\n",
    "    \n",
    "    pred = (np.mean([model.predict(feat.values) for model in models], 0))\n",
    "    sample_prediction['target'] = pred\n",
    "    assert(len(sample_prediction['target']) == l)\n",
    "    assert(np.isnan(np.sum(sample_prediction['target'].values)) == False)\n",
    "    assert((pred == pred).all())\n",
    "    env.predict(sample_prediction)"
   ]
  }
 ],
 "metadata": {
  "kernelspec": {
   "display_name": "Python 3",
   "language": "python",
   "name": "python3"
  },
  "language_info": {
   "codemirror_mode": {
    "name": "ipython",
    "version": 3
   },
   "file_extension": ".py",
   "mimetype": "text/x-python",
   "name": "python",
   "nbconvert_exporter": "python",
   "pygments_lexer": "ipython3",
   "version": "3.10.12"
  },
  "papermill": {
   "default_parameters": {},
   "duration": 57.221016,
   "end_time": "2023-11-12T20:58:06.327473",
   "environment_variables": {},
   "exception": null,
   "input_path": "__notebook__.ipynb",
   "output_path": "__notebook__.ipynb",
   "parameters": {},
   "start_time": "2023-11-12T20:57:09.106457",
   "version": "2.4.0"
  }
 },
 "nbformat": 4,
 "nbformat_minor": 5
}
