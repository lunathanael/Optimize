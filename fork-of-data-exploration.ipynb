{
 "cells": [
  {
   "cell_type": "code",
   "execution_count": 1,
   "id": "0229e152",
   "metadata": {
    "_cell_guid": "b1076dfc-b9ad-4769-8c92-a6c4dae69d19",
    "_uuid": "8f2839f25d086af736a60e9eeb907d3b93b6e0e5",
    "execution": {
     "iopub.execute_input": "2023-11-14T21:00:37.103815Z",
     "iopub.status.busy": "2023-11-14T21:00:37.103392Z",
     "iopub.status.idle": "2023-11-14T21:00:38.004811Z",
     "shell.execute_reply": "2023-11-14T21:00:38.004017Z"
    },
    "papermill": {
     "duration": 0.908422,
     "end_time": "2023-11-14T21:00:38.007271",
     "exception": false,
     "start_time": "2023-11-14T21:00:37.098849",
     "status": "completed"
    },
    "tags": []
   },
   "outputs": [],
   "source": [
    "# lib import\n",
    "import numpy as np\n",
    "import pandas as pd\n",
    "TRAINING = False"
   ]
  },
  {
   "cell_type": "code",
   "execution_count": 2,
   "id": "8a29ff48",
   "metadata": {
    "execution": {
     "iopub.execute_input": "2023-11-14T21:00:38.017412Z",
     "iopub.status.busy": "2023-11-14T21:00:38.016433Z",
     "iopub.status.idle": "2023-11-14T21:00:38.025382Z",
     "shell.execute_reply": "2023-11-14T21:00:38.024277Z"
    },
    "papermill": {
     "duration": 0.015557,
     "end_time": "2023-11-14T21:00:38.028239",
     "exception": false,
     "start_time": "2023-11-14T21:00:38.012682",
     "status": "completed"
    },
    "tags": []
   },
   "outputs": [],
   "source": [
    "def generate_features(df):\n",
    "    features = ['seconds_in_bucket', 'imbalance_buy_sell_flag',\n",
    "               'imbalance_size', 'matched_size', 'bid_size', 'ask_size',\n",
    "                'reference_price','far_price', 'near_price', 'ask_price', 'bid_price', 'wap',\n",
    "                'imb_s1', 'imb_s2', 'prev_target'\n",
    "               ]\n",
    "\n",
    "    df['imb_s1'] = df.eval('(bid_size-ask_size)/(bid_size+ask_size)')\n",
    "    df['imb_s2'] = df.eval('(imbalance_size-matched_size)/(matched_size+imbalance_size)')\n",
    "\n",
    "    prices = ['reference_price','far_price', 'near_price', 'ask_price', 'bid_price', 'wap','prev_target']\n",
    "\n",
    "    for i,a in enumerate(prices):\n",
    "        for j,b in enumerate(prices):\n",
    "            if i>j:\n",
    "                df[f'{a}_{b}_imb'] = df.eval(f'({a}-{b})/({a}+{b})')\n",
    "                features.append(f'{a}_{b}_imb')\n",
    "\n",
    "    for i,a in enumerate(prices):\n",
    "        for j,b in enumerate(prices):\n",
    "            for k,c in enumerate(prices):\n",
    "                if i>j and j>k:\n",
    "                    max_ = df[[a,b,c]].max(axis=1)\n",
    "                    min_ = df[[a,b,c]].min(axis=1)\n",
    "                    mid_ = df[[a,b,c]].sum(axis=1)-min_-max_\n",
    "\n",
    "                    df[f'{a}_{b}_{c}_imb2'] = (max_-mid_)/(mid_-min_)\n",
    "                    features.append(f'{a}_{b}_{c}_imb2')\n",
    "\n",
    "    return df[features]"
   ]
  },
  {
   "cell_type": "code",
   "execution_count": 3,
   "id": "3ec3dee2",
   "metadata": {
    "execution": {
     "iopub.execute_input": "2023-11-14T21:00:38.034872Z",
     "iopub.status.busy": "2023-11-14T21:00:38.034493Z",
     "iopub.status.idle": "2023-11-14T21:00:38.040804Z",
     "shell.execute_reply": "2023-11-14T21:00:38.039693Z"
    },
    "papermill": {
     "duration": 0.011473,
     "end_time": "2023-11-14T21:00:38.042477",
     "exception": false,
     "start_time": "2023-11-14T21:00:38.031004",
     "status": "completed"
    },
    "tags": []
   },
   "outputs": [],
   "source": [
    "# fix data\n",
    "def add_targets(df):\n",
    "    result = df[df['seconds_in_bucket']==540].copy(deep=True)\n",
    "    result['date_id'] = result['date_id'] + 1\n",
    "    result = result[['stock_id', 'date_id', 'target']]\n",
    "    result = result.rename(columns={'target': 'prev_target'})\n",
    "    \n",
    "    sr = result.sample(n=int(len(result) * 0.8), random_state=69)\n",
    "\n",
    "    df = df.merge(sr, on=['stock_id', 'date_id'], how='left')\n",
    "    return df"
   ]
  },
  {
   "cell_type": "code",
   "execution_count": 4,
   "id": "efed9bf0",
   "metadata": {
    "execution": {
     "iopub.execute_input": "2023-11-14T21:00:38.049252Z",
     "iopub.status.busy": "2023-11-14T21:00:38.048825Z",
     "iopub.status.idle": "2023-11-14T21:00:38.055401Z",
     "shell.execute_reply": "2023-11-14T21:00:38.053773Z"
    },
    "papermill": {
     "duration": 0.012859,
     "end_time": "2023-11-14T21:00:38.057928",
     "exception": false,
     "start_time": "2023-11-14T21:00:38.045069",
     "status": "completed"
    },
    "tags": []
   },
   "outputs": [],
   "source": [
    "def add_targets_test(tdf, rdf):\n",
    "    result = rdf.groupby(['stock_id', 'date_id']).agg(\n",
    "    prev_target=('revealed_target', 'last')\n",
    "    ).reset_index()\n",
    "\n",
    "    tdf = tdf.merge(result, on=['stock_id', 'date_id'], how='left')\n",
    "    \n",
    "    tdf['prev_target'] = tdf['prev_target'].astype('float64')\n",
    "    return tdf"
   ]
  },
  {
   "cell_type": "code",
   "execution_count": 5,
   "id": "79c3fff1",
   "metadata": {
    "execution": {
     "iopub.execute_input": "2023-11-14T21:00:38.064768Z",
     "iopub.status.busy": "2023-11-14T21:00:38.064332Z",
     "iopub.status.idle": "2023-11-14T21:00:38.071200Z",
     "shell.execute_reply": "2023-11-14T21:00:38.069856Z"
    },
    "papermill": {
     "duration": 0.013164,
     "end_time": "2023-11-14T21:00:38.073741",
     "exception": false,
     "start_time": "2023-11-14T21:00:38.060577",
     "status": "completed"
    },
    "tags": []
   },
   "outputs": [],
   "source": [
    "if TRAINING:\n",
    "    df = pd.read_csv('/kaggle/input/optiver-trading-at-the-close/train.csv')\n",
    "    \n",
    "    df = add_targets(df)\n",
    "    \n",
    "    X = generate_features(df).values\n",
    "    Y = df['target'].values\n",
    "        \n",
    "    X = X[np.isfinite(Y)]\n",
    "    Y = Y[np.isfinite(Y)]\n",
    "    \n",
    "    index = np.arange(len(X))"
   ]
  },
  {
   "cell_type": "code",
   "execution_count": 6,
   "id": "f4a4a990",
   "metadata": {
    "execution": {
     "iopub.execute_input": "2023-11-14T21:00:38.081296Z",
     "iopub.status.busy": "2023-11-14T21:00:38.080381Z",
     "iopub.status.idle": "2023-11-14T21:00:41.370350Z",
     "shell.execute_reply": "2023-11-14T21:00:41.369152Z"
    },
    "papermill": {
     "duration": 3.296162,
     "end_time": "2023-11-14T21:00:41.372606",
     "exception": false,
     "start_time": "2023-11-14T21:00:38.076444",
     "status": "completed"
    },
    "tags": []
   },
   "outputs": [],
   "source": [
    "import lightgbm as lgb \n",
    "import joblib\n",
    "import os\n",
    "\n",
    "\n",
    "models = []\n",
    "\n",
    "# test to train ratio\n",
    "N_fold = 5\n",
    "\n",
    "os.system('mkdir models')\n",
    "\n",
    "#model_path ='/kaggle/input/testing_data_set/models'\n",
    "model_path ='/kaggle/input/optimize'\n",
    "\n",
    "def train(model_dict, modelname='lgbm'):\n",
    "    if TRAINING:\n",
    "        model = model_dict[modelname]\n",
    "        model.fit(X[index%N_fold!=i], Y[index%N_fold!=i],\n",
    "          eval_set=(X[index%N_fold==i], Y[index%N_fold==i]),\n",
    "          early_stopping_rounds=100,\n",
    "          verbose = 10\n",
    "         )\n",
    "        models.append(model)\n",
    "        joblib.dump(model, f'./models/{modelname}_{i}.model')\n",
    "    else:\n",
    "        models.append(joblib.load(f'{model_path}/{modelname}_{i}.model'))\n",
    "\n",
    "\n",
    "        \n",
    "model_dict = {\n",
    "    'lgbm': lgb.LGBMRegressor(objective='regression_l1',\n",
    "                            boosting_type= \"gbdt\",\n",
    "                            n_estimators= 710,\n",
    "                            learning_rate= 0.1823960595729828,\n",
    "                            num_leaves= 845,\n",
    "                            max_depth= 8,\n",
    "                            min_data_in_leaf= 234,\n",
    "                            lambda_l1= 9,\n",
    "                            lambda_l2= 23,\n",
    "                            min_gain_to_split= 0.490619353569984,\n",
    "                            bagging_fraction= 0.8845141958452706,\n",
    "                            bagging_freq= 1,\n",
    "                            feature_fraction= 0.5939383574598411,\n",
    "                          )\n",
    "}\n",
    "for i in range(N_fold):\n",
    "    train(model_dict, 'lgbm')"
   ]
  },
  {
   "cell_type": "code",
   "execution_count": 7,
   "id": "f4ce57b2",
   "metadata": {
    "execution": {
     "iopub.execute_input": "2023-11-14T21:00:41.380017Z",
     "iopub.status.busy": "2023-11-14T21:00:41.379558Z",
     "iopub.status.idle": "2023-11-14T21:00:41.404629Z",
     "shell.execute_reply": "2023-11-14T21:00:41.403193Z"
    },
    "papermill": {
     "duration": 0.032017,
     "end_time": "2023-11-14T21:00:41.407410",
     "exception": false,
     "start_time": "2023-11-14T21:00:41.375393",
     "status": "completed"
    },
    "tags": []
   },
   "outputs": [],
   "source": [
    "import optiver2023\n",
    "env = optiver2023.make_env()\n",
    "iter_test = env.iter_test()"
   ]
  },
  {
   "cell_type": "code",
   "execution_count": 8,
   "id": "2d2c6710",
   "metadata": {
    "execution": {
     "iopub.execute_input": "2023-11-14T21:00:41.414150Z",
     "iopub.status.busy": "2023-11-14T21:00:41.413804Z",
     "iopub.status.idle": "2023-11-14T21:01:18.164580Z",
     "shell.execute_reply": "2023-11-14T21:01:18.163075Z"
    },
    "papermill": {
     "duration": 36.757029,
     "end_time": "2023-11-14T21:01:18.167081",
     "exception": false,
     "start_time": "2023-11-14T21:00:41.410052",
     "status": "completed"
    },
    "tags": []
   },
   "outputs": [
    {
     "name": "stdout",
     "output_type": "stream",
     "text": [
      "This version of the API is not optimized and should not be used to estimate the runtime of your code on the hidden test set.\n"
     ]
    }
   ],
   "source": [
    "for (test, revealed_targets, sample_prediction) in iter_test:\n",
    "    st = test.sort_values(['stock_id', 'date_id', 'seconds_in_bucket']).copy(deep=True)\n",
    "    st = add_targets_test(st, revealed_targets)\n",
    "    \n",
    "    feat = generate_features(st)\n",
    "    \n",
    "    pred = (np.mean([model.predict(feat.values) for model in models], 0))\n",
    "    sample_prediction['target'] = pred\n",
    "    env.predict(sample_prediction)"
   ]
  }
 ],
 "metadata": {
  "kernelspec": {
   "display_name": "Python 3",
   "language": "python",
   "name": "python3"
  },
  "language_info": {
   "codemirror_mode": {
    "name": "ipython",
    "version": 3
   },
   "file_extension": ".py",
   "mimetype": "text/x-python",
   "name": "python",
   "nbconvert_exporter": "python",
   "pygments_lexer": "ipython3",
   "version": "3.10.12"
  },
  "papermill": {
   "default_parameters": {},
   "duration": 45.487081,
   "end_time": "2023-11-14T21:01:18.890369",
   "environment_variables": {},
   "exception": null,
   "input_path": "__notebook__.ipynb",
   "output_path": "__notebook__.ipynb",
   "parameters": {},
   "start_time": "2023-11-14T21:00:33.403288",
   "version": "2.4.0"
  }
 },
 "nbformat": 4,
 "nbformat_minor": 5
}
