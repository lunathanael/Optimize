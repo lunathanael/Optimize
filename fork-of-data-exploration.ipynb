{
 "cells": [
  {
   "cell_type": "code",
   "execution_count": 1,
   "id": "4196fa30",
   "metadata": {
    "_cell_guid": "b1076dfc-b9ad-4769-8c92-a6c4dae69d19",
    "_uuid": "8f2839f25d086af736a60e9eeb907d3b93b6e0e5",
    "execution": {
     "iopub.execute_input": "2023-11-12T20:56:34.221633Z",
     "iopub.status.busy": "2023-11-12T20:56:34.221224Z",
     "iopub.status.idle": "2023-11-12T20:56:35.134518Z",
     "shell.execute_reply": "2023-11-12T20:56:35.133095Z"
    },
    "papermill": {
     "duration": 0.92213,
     "end_time": "2023-11-12T20:56:35.137549",
     "exception": false,
     "start_time": "2023-11-12T20:56:34.215419",
     "status": "completed"
    },
    "tags": []
   },
   "outputs": [],
   "source": [
    "# lib import\n",
    "import numpy as np\n",
    "import pandas as pd\n",
    "TRAINING = False"
   ]
  },
  {
   "cell_type": "code",
   "execution_count": 2,
   "id": "c497405d",
   "metadata": {
    "execution": {
     "iopub.execute_input": "2023-11-12T20:56:35.148999Z",
     "iopub.status.busy": "2023-11-12T20:56:35.147828Z",
     "iopub.status.idle": "2023-11-12T20:56:35.158772Z",
     "shell.execute_reply": "2023-11-12T20:56:35.157477Z"
    },
    "papermill": {
     "duration": 0.017546,
     "end_time": "2023-11-12T20:56:35.160941",
     "exception": false,
     "start_time": "2023-11-12T20:56:35.143395",
     "status": "completed"
    },
    "tags": []
   },
   "outputs": [],
   "source": [
    "def generate_features(df):\n",
    "    features = ['seconds_in_bucket', 'imbalance_buy_sell_flag',\n",
    "               'imbalance_size', 'matched_size', 'bid_size', 'ask_size',\n",
    "                'reference_price','far_price', 'near_price', 'ask_price', 'bid_price', 'wap',\n",
    "                'imb_s1', 'imb_s2', 'prev_target'\n",
    "               ]\n",
    "\n",
    "    df['imb_s1'] = df.eval('(bid_size-ask_size)/(bid_size+ask_size)')\n",
    "    df['imb_s2'] = df.eval('(imbalance_size-matched_size)/(matched_size+imbalance_size)')\n",
    "\n",
    "    prices = ['reference_price','far_price', 'near_price', 'ask_price', 'bid_price', 'wap','prev_target']\n",
    "\n",
    "    for i,a in enumerate(prices):\n",
    "        for j,b in enumerate(prices):\n",
    "            if i>j:\n",
    "                df[f'{a}_{b}_imb'] = df.eval(f'({a}-{b})/({a}+{b})')\n",
    "                features.append(f'{a}_{b}_imb')\n",
    "\n",
    "    for i,a in enumerate(prices):\n",
    "        for j,b in enumerate(prices):\n",
    "            for k,c in enumerate(prices):\n",
    "                if i>j and j>k:\n",
    "                    max_ = df[[a,b,c]].max(axis=1)\n",
    "                    min_ = df[[a,b,c]].min(axis=1)\n",
    "                    mid_ = df[[a,b,c]].sum(axis=1)-min_-max_\n",
    "\n",
    "                    df[f'{a}_{b}_{c}_imb2'] = (max_-mid_)/(mid_-min_)\n",
    "                    features.append(f'{a}_{b}_{c}_imb2')\n",
    "\n",
    "    return df[features]"
   ]
  },
  {
   "cell_type": "code",
   "execution_count": 3,
   "id": "aea60cc6",
   "metadata": {
    "execution": {
     "iopub.execute_input": "2023-11-12T20:56:35.168896Z",
     "iopub.status.busy": "2023-11-12T20:56:35.168415Z",
     "iopub.status.idle": "2023-11-12T20:56:35.174814Z",
     "shell.execute_reply": "2023-11-12T20:56:35.173703Z"
    },
    "papermill": {
     "duration": 0.012835,
     "end_time": "2023-11-12T20:56:35.176889",
     "exception": false,
     "start_time": "2023-11-12T20:56:35.164054",
     "status": "completed"
    },
    "tags": []
   },
   "outputs": [],
   "source": [
    "# fix data\n",
    "def add_targets(df):\n",
    "    result = df[df['seconds_in_bucket']==540].copy(deep=True)\n",
    "    result['date_id'] = result['date_id'] + 1\n",
    "    result = result[['stock_id', 'date_id', 'target']]\n",
    "    result = result.rename(columns={'target': 'prev_target'})\n",
    "\n",
    "    df = df.merge(result, on=['stock_id', 'date_id'], how='left')\n",
    "    return df"
   ]
  },
  {
   "cell_type": "code",
   "execution_count": 4,
   "id": "c1d02f6b",
   "metadata": {
    "execution": {
     "iopub.execute_input": "2023-11-12T20:56:35.186106Z",
     "iopub.status.busy": "2023-11-12T20:56:35.185302Z",
     "iopub.status.idle": "2023-11-12T20:56:35.191749Z",
     "shell.execute_reply": "2023-11-12T20:56:35.190519Z"
    },
    "papermill": {
     "duration": 0.013273,
     "end_time": "2023-11-12T20:56:35.194086",
     "exception": false,
     "start_time": "2023-11-12T20:56:35.180813",
     "status": "completed"
    },
    "tags": []
   },
   "outputs": [],
   "source": [
    "def add_targets_test(tdf, rdf):\n",
    "    result = rdf.groupby(['stock_id', 'date_id']).agg(\n",
    "    prev_target=('revealed_target', 'last')\n",
    "    ).reset_index()\n",
    "\n",
    "    tdf = tdf.merge(result, on=['stock_id', 'date_id'], how='left')\n",
    "    \n",
    "    tdf['prev_target'] = tdf['prev_target'].astype('float64')\n",
    "    return tdf"
   ]
  },
  {
   "cell_type": "code",
   "execution_count": 5,
   "id": "2766f7ec",
   "metadata": {
    "execution": {
     "iopub.execute_input": "2023-11-12T20:56:35.202011Z",
     "iopub.status.busy": "2023-11-12T20:56:35.201384Z",
     "iopub.status.idle": "2023-11-12T20:56:35.208289Z",
     "shell.execute_reply": "2023-11-12T20:56:35.206795Z"
    },
    "papermill": {
     "duration": 0.013383,
     "end_time": "2023-11-12T20:56:35.210559",
     "exception": false,
     "start_time": "2023-11-12T20:56:35.197176",
     "status": "completed"
    },
    "tags": []
   },
   "outputs": [],
   "source": [
    "if TRAINING:\n",
    "    df = pd.read_csv('/kaggle/input/optiver-trading-at-the-close/train.csv')\n",
    "    #df.loc[:, 'prev_target'] = np.nan\n",
    "    \n",
    "    df = add_targets(df)\n",
    "    \n",
    "    X = generate_features(df).values\n",
    "    Y = df['target'].values\n",
    "    \n",
    "    X = X[np.isfinite(Y)]\n",
    "    Y = Y[np.isfinite(Y)]\n",
    "    \n",
    "    index = np.arange(len(X))"
   ]
  },
  {
   "cell_type": "code",
   "execution_count": 6,
   "id": "11558222",
   "metadata": {
    "execution": {
     "iopub.execute_input": "2023-11-12T20:56:35.218800Z",
     "iopub.status.busy": "2023-11-12T20:56:35.217969Z",
     "iopub.status.idle": "2023-11-12T20:56:38.147224Z",
     "shell.execute_reply": "2023-11-12T20:56:38.145800Z"
    },
    "papermill": {
     "duration": 2.936381,
     "end_time": "2023-11-12T20:56:38.150000",
     "exception": false,
     "start_time": "2023-11-12T20:56:35.213619",
     "status": "completed"
    },
    "tags": []
   },
   "outputs": [],
   "source": [
    "import lightgbm as lgb \n",
    "import joblib\n",
    "import os\n",
    "\n",
    "\n",
    "models = []\n",
    "\n",
    "# test to train ratio\n",
    "N_fold = 5\n",
    "\n",
    "os.system('mkdir models')\n",
    "\n",
    "#model_path ='/kaggle/input/testing_data_set/models'\n",
    "model_path ='/kaggle/input/optimize'\n",
    "\n",
    "def train(model_dict, modelname='lgbm'):\n",
    "    if TRAINING:\n",
    "        model = model_dict[modelname]\n",
    "        model.fit(X[index%N_fold!=i], Y[index%N_fold!=i],\n",
    "          eval_set=(X[index%N_fold==i], Y[index%N_fold==i]),\n",
    "          early_stopping_rounds=100,\n",
    "          verbose = 10\n",
    "         )\n",
    "        models.append(model)\n",
    "        joblib.dump(model, f'./models/{modelname}_{i}.model')\n",
    "    else:\n",
    "        models.append(joblib.load(f'{model_path}/{modelname}_{i}.model'))\n",
    "\n",
    "\n",
    "        \n",
    "model_dict = {\n",
    "    'lgbm': lgb.LGBMRegressor(objective='regression_l1',\n",
    "                           n_estimators=710,\n",
    "                          ),\n",
    "}\n",
    "for i in range(N_fold):\n",
    "    train(model_dict, 'lgbm')"
   ]
  },
  {
   "cell_type": "code",
   "execution_count": 7,
   "id": "b5ad01b1",
   "metadata": {
    "execution": {
     "iopub.execute_input": "2023-11-12T20:56:38.158729Z",
     "iopub.status.busy": "2023-11-12T20:56:38.157749Z",
     "iopub.status.idle": "2023-11-12T20:56:38.178328Z",
     "shell.execute_reply": "2023-11-12T20:56:38.177266Z"
    },
    "papermill": {
     "duration": 0.027869,
     "end_time": "2023-11-12T20:56:38.181126",
     "exception": false,
     "start_time": "2023-11-12T20:56:38.153257",
     "status": "completed"
    },
    "tags": []
   },
   "outputs": [],
   "source": [
    "import optiver2023\n",
    "env = optiver2023.make_env()\n",
    "iter_test = env.iter_test()"
   ]
  },
  {
   "cell_type": "code",
   "execution_count": 8,
   "id": "ccac726a",
   "metadata": {
    "execution": {
     "iopub.execute_input": "2023-11-12T20:56:38.189072Z",
     "iopub.status.busy": "2023-11-12T20:56:38.188666Z",
     "iopub.status.idle": "2023-11-12T20:57:18.817130Z",
     "shell.execute_reply": "2023-11-12T20:57:18.815661Z"
    },
    "papermill": {
     "duration": 40.635922,
     "end_time": "2023-11-12T20:57:18.820246",
     "exception": false,
     "start_time": "2023-11-12T20:56:38.184324",
     "status": "completed"
    },
    "tags": []
   },
   "outputs": [
    {
     "name": "stdout",
     "output_type": "stream",
     "text": [
      "This version of the API is not optimized and should not be used to estimate the runtime of your code on the hidden test set.\n"
     ]
    }
   ],
   "source": [
    "for (test, revealed_targets, sample_prediction) in iter_test:\n",
    "    l = len(test)\n",
    "    st = test.sort_values(['stock_id', 'date_id', 'seconds_in_bucket'])\n",
    "    st = add_targets_test(st, revealed_targets)\n",
    "    \n",
    "    feat = generate_features(st)\n",
    "    \n",
    "    pred = (np.mean([model.predict(feat.values) for model in models], 0))\n",
    "    sample_prediction['target'] = pred\n",
    "    assert(len(sample_prediction['target']) == l)\n",
    "    assert(np.isnan(np.sum(sample_prediction['target'].values)) == False)\n",
    "    assert((pred == pred).all())\n",
    "    env.predict(sample_prediction)"
   ]
  }
 ],
 "metadata": {
  "kernelspec": {
   "display_name": "Python 3",
   "language": "python",
   "name": "python3"
  },
  "language_info": {
   "codemirror_mode": {
    "name": "ipython",
    "version": 3
   },
   "file_extension": ".py",
   "mimetype": "text/x-python",
   "name": "python",
   "nbconvert_exporter": "python",
   "pygments_lexer": "ipython3",
   "version": "3.10.12"
  },
  "papermill": {
   "default_parameters": {},
   "duration": 49.502642,
   "end_time": "2023-11-12T20:57:19.749309",
   "environment_variables": {},
   "exception": null,
   "input_path": "__notebook__.ipynb",
   "output_path": "__notebook__.ipynb",
   "parameters": {},
   "start_time": "2023-11-12T20:56:30.246667",
   "version": "2.4.0"
  }
 },
 "nbformat": 4,
 "nbformat_minor": 5
}
