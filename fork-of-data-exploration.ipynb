{
 "cells": [
  {
   "cell_type": "code",
   "execution_count": 1,
   "id": "4bec7888",
   "metadata": {
    "_cell_guid": "b1076dfc-b9ad-4769-8c92-a6c4dae69d19",
    "_uuid": "8f2839f25d086af736a60e9eeb907d3b93b6e0e5",
    "execution": {
     "iopub.execute_input": "2023-11-15T00:32:27.357485Z",
     "iopub.status.busy": "2023-11-15T00:32:27.356967Z",
     "iopub.status.idle": "2023-11-15T00:32:28.373987Z",
     "shell.execute_reply": "2023-11-15T00:32:28.372825Z"
    },
    "papermill": {
     "duration": 1.026804,
     "end_time": "2023-11-15T00:32:28.377480",
     "exception": false,
     "start_time": "2023-11-15T00:32:27.350676",
     "status": "completed"
    },
    "tags": []
   },
   "outputs": [],
   "source": [
    "# lib import\n",
    "import numpy as np\n",
    "import pandas as pd\n",
    "TRAINING = False"
   ]
  },
  {
   "cell_type": "code",
   "execution_count": 2,
   "id": "48429aff",
   "metadata": {
    "execution": {
     "iopub.execute_input": "2023-11-15T00:32:28.389660Z",
     "iopub.status.busy": "2023-11-15T00:32:28.389051Z",
     "iopub.status.idle": "2023-11-15T00:32:28.402229Z",
     "shell.execute_reply": "2023-11-15T00:32:28.401163Z"
    },
    "papermill": {
     "duration": 0.021166,
     "end_time": "2023-11-15T00:32:28.404961",
     "exception": false,
     "start_time": "2023-11-15T00:32:28.383795",
     "status": "completed"
    },
    "tags": []
   },
   "outputs": [],
   "source": [
    "def generate_features(df):\n",
    "    features = ['seconds_in_bucket', 'imbalance_buy_sell_flag',\n",
    "               'imbalance_size', 'matched_size', 'bid_size', 'ask_size',\n",
    "                'reference_price','far_price', 'near_price', 'ask_price', 'bid_price', 'wap',\n",
    "                'imb_s1', 'imb_s2', 'prev_target'\n",
    "               ]\n",
    "\n",
    "    df['imb_s1'] = df.eval('(bid_size-ask_size)/(bid_size+ask_size)')\n",
    "    df['imb_s2'] = df.eval('(imbalance_size-matched_size)/(matched_size+imbalance_size)')\n",
    "\n",
    "    prices = ['reference_price','far_price', 'near_price', 'ask_price', 'bid_price', 'wap','prev_target']\n",
    "\n",
    "    for i,a in enumerate(prices):\n",
    "        for j,b in enumerate(prices):\n",
    "            if i>j:\n",
    "                df[f'{a}_{b}_imb'] = df.eval(f'({a}-{b})/({a}+{b})')\n",
    "                features.append(f'{a}_{b}_imb')\n",
    "\n",
    "    for i,a in enumerate(prices):\n",
    "        for j,b in enumerate(prices):\n",
    "            for k,c in enumerate(prices):\n",
    "                if i>j and j>k:\n",
    "                    max_ = df[[a,b,c]].max(axis=1)\n",
    "                    min_ = df[[a,b,c]].min(axis=1)\n",
    "                    mid_ = df[[a,b,c]].sum(axis=1)-min_-max_\n",
    "\n",
    "                    df[f'{a}_{b}_{c}_imb2'] = (max_-mid_)/(mid_-min_)\n",
    "                    features.append(f'{a}_{b}_{c}_imb2')\n",
    "\n",
    "    return df[features]"
   ]
  },
  {
   "cell_type": "code",
   "execution_count": 3,
   "id": "cede04d5",
   "metadata": {
    "execution": {
     "iopub.execute_input": "2023-11-15T00:32:28.414985Z",
     "iopub.status.busy": "2023-11-15T00:32:28.414538Z",
     "iopub.status.idle": "2023-11-15T00:32:28.422536Z",
     "shell.execute_reply": "2023-11-15T00:32:28.421360Z"
    },
    "papermill": {
     "duration": 0.015996,
     "end_time": "2023-11-15T00:32:28.425065",
     "exception": false,
     "start_time": "2023-11-15T00:32:28.409069",
     "status": "completed"
    },
    "tags": []
   },
   "outputs": [],
   "source": [
    "# fix data\n",
    "def add_targets(df):\n",
    "    result = df[df['seconds_in_bucket']==540].copy(deep=True)\n",
    "    result['date_id'] = result['date_id'] + 1\n",
    "    result = result[['stock_id', 'date_id', 'target']]\n",
    "    result = result.rename(columns={'target': 'prev_target'})\n",
    "    \n",
    "    sr = result.sample(n=int(len(result) * 0.1), random_state=69)\n",
    "\n",
    "    df = df.merge(sr, on=['stock_id', 'date_id'], how='left')\n",
    "    return df"
   ]
  },
  {
   "cell_type": "code",
   "execution_count": 4,
   "id": "2b11cc91",
   "metadata": {
    "execution": {
     "iopub.execute_input": "2023-11-15T00:32:28.435374Z",
     "iopub.status.busy": "2023-11-15T00:32:28.434920Z",
     "iopub.status.idle": "2023-11-15T00:32:28.442294Z",
     "shell.execute_reply": "2023-11-15T00:32:28.441129Z"
    },
    "papermill": {
     "duration": 0.015481,
     "end_time": "2023-11-15T00:32:28.444824",
     "exception": false,
     "start_time": "2023-11-15T00:32:28.429343",
     "status": "completed"
    },
    "tags": []
   },
   "outputs": [],
   "source": [
    "def add_targets_test(tdf, rdf):\n",
    "    result = rdf.groupby(['stock_id', 'date_id']).agg(\n",
    "    prev_target=('revealed_target', 'last')\n",
    "    ).reset_index()\n",
    "\n",
    "    tdf = tdf.merge(result, on=['stock_id', 'date_id'], how='left')\n",
    "    \n",
    "    tdf['prev_target'] = tdf['prev_target'].astype('float64')\n",
    "    return tdf"
   ]
  },
  {
   "cell_type": "code",
   "execution_count": 5,
   "id": "beb297f5",
   "metadata": {
    "execution": {
     "iopub.execute_input": "2023-11-15T00:32:28.456021Z",
     "iopub.status.busy": "2023-11-15T00:32:28.455304Z",
     "iopub.status.idle": "2023-11-15T00:32:28.461800Z",
     "shell.execute_reply": "2023-11-15T00:32:28.460880Z"
    },
    "papermill": {
     "duration": 0.015252,
     "end_time": "2023-11-15T00:32:28.464292",
     "exception": false,
     "start_time": "2023-11-15T00:32:28.449040",
     "status": "completed"
    },
    "tags": []
   },
   "outputs": [],
   "source": [
    "if TRAINING:\n",
    "    df = pd.read_csv('/kaggle/input/optiver-trading-at-the-close/train.csv')\n",
    "    \n",
    "    df = add_targets(df)\n",
    "    \n",
    "    X = generate_features(df).values\n",
    "    Y = df['target'].values\n",
    "        \n",
    "    X = X[np.isfinite(Y)]\n",
    "    Y = Y[np.isfinite(Y)]\n",
    "    \n",
    "    index = np.arange(len(X))"
   ]
  },
  {
   "cell_type": "code",
   "execution_count": 6,
   "id": "b042e9b9",
   "metadata": {
    "execution": {
     "iopub.execute_input": "2023-11-15T00:32:28.474504Z",
     "iopub.status.busy": "2023-11-15T00:32:28.473823Z",
     "iopub.status.idle": "2023-11-15T00:32:32.319206Z",
     "shell.execute_reply": "2023-11-15T00:32:32.318132Z"
    },
    "papermill": {
     "duration": 3.854147,
     "end_time": "2023-11-15T00:32:32.322450",
     "exception": false,
     "start_time": "2023-11-15T00:32:28.468303",
     "status": "completed"
    },
    "tags": []
   },
   "outputs": [],
   "source": [
    "import lightgbm as lgb \n",
    "import joblib\n",
    "import os\n",
    "\n",
    "\n",
    "models = []\n",
    "\n",
    "# test to train ratio\n",
    "N_fold = 5\n",
    "\n",
    "os.system('mkdir models')\n",
    "\n",
    "#model_path ='/kaggle/input/testing_data_set/models'\n",
    "model_path ='/kaggle/input/optimize'\n",
    "\n",
    "def train(model_dict, modelname='lgbm'):\n",
    "    if TRAINING:\n",
    "        model = model_dict[modelname]\n",
    "        model.fit(X[index%N_fold!=i], Y[index%N_fold!=i],\n",
    "          eval_set=(X[index%N_fold==i], Y[index%N_fold==i]),\n",
    "          early_stopping_rounds=100,\n",
    "          verbose = 10\n",
    "         )\n",
    "        models.append(model)\n",
    "        joblib.dump(model, f'./models/{modelname}_{i}.model')\n",
    "    else:\n",
    "        models.append(joblib.load(f'{model_path}/{modelname}_{i}.model'))\n",
    "\n",
    "\n",
    "        \n",
    "model_dict = {\n",
    "    'lgbm': lgb.LGBMRegressor(objective='regression_l1',\n",
    "                            boosting_type= \"gbdt\",\n",
    "                            n_estimators= 710,\n",
    "                            learning_rate= 0.1823960595729828,\n",
    "                            num_leaves= 845,\n",
    "                            max_depth= 8,\n",
    "                            min_data_in_leaf= 234,\n",
    "                            lambda_l1= 9,\n",
    "                            lambda_l2= 23,\n",
    "                            min_gain_to_split= 0.490619353569984,\n",
    "                            bagging_fraction= 0.8845141958452706,\n",
    "                            bagging_freq= 1,\n",
    "                            feature_fraction= 0.5939383574598411,\n",
    "                          )\n",
    "}\n",
    "for i in range(N_fold):\n",
    "    train(model_dict, 'lgbm')"
   ]
  },
  {
   "cell_type": "code",
   "execution_count": 7,
   "id": "e6290b83",
   "metadata": {
    "execution": {
     "iopub.execute_input": "2023-11-15T00:32:32.333333Z",
     "iopub.status.busy": "2023-11-15T00:32:32.332541Z",
     "iopub.status.idle": "2023-11-15T00:32:32.354263Z",
     "shell.execute_reply": "2023-11-15T00:32:32.353225Z"
    },
    "papermill": {
     "duration": 0.030405,
     "end_time": "2023-11-15T00:32:32.357010",
     "exception": false,
     "start_time": "2023-11-15T00:32:32.326605",
     "status": "completed"
    },
    "tags": []
   },
   "outputs": [],
   "source": [
    "import optiver2023\n",
    "env = optiver2023.make_env()\n",
    "iter_test = env.iter_test()"
   ]
  },
  {
   "cell_type": "code",
   "execution_count": 8,
   "id": "2a741124",
   "metadata": {
    "execution": {
     "iopub.execute_input": "2023-11-15T00:32:32.368484Z",
     "iopub.status.busy": "2023-11-15T00:32:32.367624Z",
     "iopub.status.idle": "2023-11-15T00:33:28.084507Z",
     "shell.execute_reply": "2023-11-15T00:33:28.082779Z"
    },
    "papermill": {
     "duration": 55.72658,
     "end_time": "2023-11-15T00:33:28.088051",
     "exception": false,
     "start_time": "2023-11-15T00:32:32.361471",
     "status": "completed"
    },
    "tags": []
   },
   "outputs": [
    {
     "name": "stdout",
     "output_type": "stream",
     "text": [
      "This version of the API is not optimized and should not be used to estimate the runtime of your code on the hidden test set.\n"
     ]
    }
   ],
   "source": [
    "for (test, revealed_targets, sample_prediction) in iter_test:\n",
    "    st = test.copy()\n",
    "    st = st.sort_values(['stock_id', 'date_id', 'seconds_in_bucket'])\n",
    "    st = add_targets_test(st, revealed_targets)\n",
    "    st = st.sort_index()\n",
    "    \n",
    "    feat = generate_features(st)\n",
    "    \n",
    "    pred = (np.mean([model.predict(feat.values) for model in models], 0))\n",
    "    sample_prediction['target'] = pred\n",
    "    env.predict(sample_prediction)"
   ]
  }
 ],
 "metadata": {
  "kaggle": {
   "accelerator": "none",
   "dataSources": [
    {
     "databundleVersionId": 6640818,
     "sourceId": 57891,
     "sourceType": "competition"
    },
    {
     "datasetId": 3965061,
     "sourceId": 6969214,
     "sourceType": "datasetVersion"
    }
   ],
   "dockerImageVersionId": 30558,
   "isGpuEnabled": false,
   "isInternetEnabled": false,
   "language": "python",
   "sourceType": "notebook"
  },
  "kernelspec": {
   "display_name": "Python 3",
   "language": "python",
   "name": "python3"
  },
  "language_info": {
   "codemirror_mode": {
    "name": "ipython",
    "version": 3
   },
   "file_extension": ".py",
   "mimetype": "text/x-python",
   "name": "python",
   "nbconvert_exporter": "python",
   "pygments_lexer": "ipython3",
   "version": "3.10.12"
  },
  "papermill": {
   "default_parameters": {},
   "duration": 66.119076,
   "end_time": "2023-11-15T00:33:28.916972",
   "environment_variables": {},
   "exception": null,
   "input_path": "__notebook__.ipynb",
   "output_path": "__notebook__.ipynb",
   "parameters": {},
   "start_time": "2023-11-15T00:32:22.797896",
   "version": "2.4.0"
  }
 },
 "nbformat": 4,
 "nbformat_minor": 5
}
