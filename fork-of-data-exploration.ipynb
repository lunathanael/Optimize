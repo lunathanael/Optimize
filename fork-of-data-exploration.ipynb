{
 "cells": [
  {
   "cell_type": "code",
   "execution_count": 1,
   "id": "6ac9c713",
   "metadata": {
    "_cell_guid": "b1076dfc-b9ad-4769-8c92-a6c4dae69d19",
    "_uuid": "8f2839f25d086af736a60e9eeb907d3b93b6e0e5",
    "execution": {
     "iopub.execute_input": "2023-11-14T22:25:25.539541Z",
     "iopub.status.busy": "2023-11-14T22:25:25.539230Z",
     "iopub.status.idle": "2023-11-14T22:25:26.346192Z",
     "shell.execute_reply": "2023-11-14T22:25:26.345237Z"
    },
    "papermill": {
     "duration": 0.819197,
     "end_time": "2023-11-14T22:25:26.353772",
     "exception": false,
     "start_time": "2023-11-14T22:25:25.534575",
     "status": "completed"
    },
    "tags": []
   },
   "outputs": [],
   "source": [
    "# lib import\n",
    "import numpy as np\n",
    "import pandas as pd\n",
    "TRAINING = False"
   ]
  },
  {
   "cell_type": "code",
   "execution_count": 2,
   "id": "4e32ef71",
   "metadata": {
    "execution": {
     "iopub.execute_input": "2023-11-14T22:25:26.364894Z",
     "iopub.status.busy": "2023-11-14T22:25:26.363514Z",
     "iopub.status.idle": "2023-11-14T22:25:26.373073Z",
     "shell.execute_reply": "2023-11-14T22:25:26.372077Z"
    },
    "papermill": {
     "duration": 0.016142,
     "end_time": "2023-11-14T22:25:26.375101",
     "exception": false,
     "start_time": "2023-11-14T22:25:26.358959",
     "status": "completed"
    },
    "tags": []
   },
   "outputs": [],
   "source": [
    "def generate_features(df):\n",
    "    features = ['seconds_in_bucket', 'imbalance_buy_sell_flag',\n",
    "               'imbalance_size', 'matched_size', 'bid_size', 'ask_size',\n",
    "                'reference_price','far_price', 'near_price', 'ask_price', 'bid_price', 'wap',\n",
    "                'imb_s1', 'imb_s2', 'prev_target'\n",
    "               ]\n",
    "\n",
    "    df['imb_s1'] = df.eval('(bid_size-ask_size)/(bid_size+ask_size)')\n",
    "    df['imb_s2'] = df.eval('(imbalance_size-matched_size)/(matched_size+imbalance_size)')\n",
    "\n",
    "    prices = ['reference_price','far_price', 'near_price', 'ask_price', 'bid_price', 'wap','prev_target']\n",
    "\n",
    "    for i,a in enumerate(prices):\n",
    "        for j,b in enumerate(prices):\n",
    "            if i>j:\n",
    "                df[f'{a}_{b}_imb'] = df.eval(f'({a}-{b})/({a}+{b})')\n",
    "                features.append(f'{a}_{b}_imb')\n",
    "\n",
    "    for i,a in enumerate(prices):\n",
    "        for j,b in enumerate(prices):\n",
    "            for k,c in enumerate(prices):\n",
    "                if i>j and j>k:\n",
    "                    max_ = df[[a,b,c]].max(axis=1)\n",
    "                    min_ = df[[a,b,c]].min(axis=1)\n",
    "                    mid_ = df[[a,b,c]].sum(axis=1)-min_-max_\n",
    "\n",
    "                    df[f'{a}_{b}_{c}_imb2'] = (max_-mid_)/(mid_-min_)\n",
    "                    features.append(f'{a}_{b}_{c}_imb2')\n",
    "\n",
    "    return df[features]"
   ]
  },
  {
   "cell_type": "code",
   "execution_count": 3,
   "id": "966b40b7",
   "metadata": {
    "execution": {
     "iopub.execute_input": "2023-11-14T22:25:26.384199Z",
     "iopub.status.busy": "2023-11-14T22:25:26.383276Z",
     "iopub.status.idle": "2023-11-14T22:25:26.389392Z",
     "shell.execute_reply": "2023-11-14T22:25:26.388286Z"
    },
    "papermill": {
     "duration": 0.012476,
     "end_time": "2023-11-14T22:25:26.391484",
     "exception": false,
     "start_time": "2023-11-14T22:25:26.379008",
     "status": "completed"
    },
    "tags": []
   },
   "outputs": [],
   "source": [
    "# fix data\n",
    "def add_targets(df):\n",
    "    result = df[df['seconds_in_bucket']==540].copy(deep=True)\n",
    "    result['date_id'] = result['date_id'] + 1\n",
    "    result = result[['stock_id', 'date_id', 'target']]\n",
    "    result = result.rename(columns={'target': 'prev_target'})\n",
    "    \n",
    "    sr = result.sample(n=int(len(result) * 0.1), random_state=69)\n",
    "\n",
    "    df = df.merge(sr, on=['stock_id', 'date_id'], how='left')\n",
    "    return df"
   ]
  },
  {
   "cell_type": "code",
   "execution_count": 4,
   "id": "ff81b6ea",
   "metadata": {
    "execution": {
     "iopub.execute_input": "2023-11-14T22:25:26.399697Z",
     "iopub.status.busy": "2023-11-14T22:25:26.399065Z",
     "iopub.status.idle": "2023-11-14T22:25:26.404247Z",
     "shell.execute_reply": "2023-11-14T22:25:26.403218Z"
    },
    "papermill": {
     "duration": 0.01157,
     "end_time": "2023-11-14T22:25:26.406310",
     "exception": false,
     "start_time": "2023-11-14T22:25:26.394740",
     "status": "completed"
    },
    "tags": []
   },
   "outputs": [],
   "source": [
    "def add_targets_test(tdf, rdf):\n",
    "    result = rdf.groupby(['stock_id', 'date_id']).agg(\n",
    "    prev_target=('revealed_target', 'last')\n",
    "    ).reset_index()\n",
    "\n",
    "    tdf = tdf.merge(result, on=['stock_id', 'date_id'], how='left')\n",
    "    \n",
    "    tdf['prev_target'] = tdf['prev_target'].astype('float64')\n",
    "    return tdf"
   ]
  },
  {
   "cell_type": "code",
   "execution_count": 5,
   "id": "3c5bd296",
   "metadata": {
    "execution": {
     "iopub.execute_input": "2023-11-14T22:25:26.414292Z",
     "iopub.status.busy": "2023-11-14T22:25:26.413688Z",
     "iopub.status.idle": "2023-11-14T22:25:26.418899Z",
     "shell.execute_reply": "2023-11-14T22:25:26.417592Z"
    },
    "papermill": {
     "duration": 0.011775,
     "end_time": "2023-11-14T22:25:26.421275",
     "exception": false,
     "start_time": "2023-11-14T22:25:26.409500",
     "status": "completed"
    },
    "tags": []
   },
   "outputs": [],
   "source": [
    "if TRAINING:\n",
    "    df = pd.read_csv('/kaggle/input/optiver-trading-at-the-close/train.csv')\n",
    "    \n",
    "    df = add_targets(df)\n",
    "    \n",
    "    X = generate_features(df).values\n",
    "    Y = df['target'].values\n",
    "        \n",
    "    X = X[np.isfinite(Y)]\n",
    "    Y = Y[np.isfinite(Y)]\n",
    "    \n",
    "    index = np.arange(len(X))"
   ]
  },
  {
   "cell_type": "code",
   "execution_count": 6,
   "id": "b614dec1",
   "metadata": {
    "execution": {
     "iopub.execute_input": "2023-11-14T22:25:26.430358Z",
     "iopub.status.busy": "2023-11-14T22:25:26.429709Z",
     "iopub.status.idle": "2023-11-14T22:25:29.815364Z",
     "shell.execute_reply": "2023-11-14T22:25:29.814280Z"
    },
    "papermill": {
     "duration": 3.392557,
     "end_time": "2023-11-14T22:25:29.817451",
     "exception": false,
     "start_time": "2023-11-14T22:25:26.424894",
     "status": "completed"
    },
    "tags": []
   },
   "outputs": [],
   "source": [
    "import lightgbm as lgb \n",
    "import joblib\n",
    "import os\n",
    "\n",
    "\n",
    "models = []\n",
    "\n",
    "# test to train ratio\n",
    "N_fold = 5\n",
    "\n",
    "os.system('mkdir models')\n",
    "\n",
    "#model_path ='/kaggle/input/testing_data_set/models'\n",
    "model_path ='/kaggle/input/optimize'\n",
    "\n",
    "def train(model_dict, modelname='lgbm'):\n",
    "    if TRAINING:\n",
    "        model = model_dict[modelname]\n",
    "        model.fit(X[index%N_fold!=i], Y[index%N_fold!=i],\n",
    "          eval_set=(X[index%N_fold==i], Y[index%N_fold==i]),\n",
    "          early_stopping_rounds=100,\n",
    "          verbose = 10\n",
    "         )\n",
    "        models.append(model)\n",
    "        joblib.dump(model, f'./models/{modelname}_{i}.model')\n",
    "    else:\n",
    "        models.append(joblib.load(f'{model_path}/{modelname}_{i}.model'))\n",
    "\n",
    "\n",
    "        \n",
    "model_dict = {\n",
    "    'lgbm': lgb.LGBMRegressor(objective='regression_l1',\n",
    "                            boosting_type= \"gbdt\",\n",
    "                            n_estimators= 710,\n",
    "                            learning_rate= 0.1823960595729828,\n",
    "                            num_leaves= 845,\n",
    "                            max_depth= 8,\n",
    "                            min_data_in_leaf= 234,\n",
    "                            lambda_l1= 9,\n",
    "                            lambda_l2= 23,\n",
    "                            min_gain_to_split= 0.490619353569984,\n",
    "                            bagging_fraction= 0.8845141958452706,\n",
    "                            bagging_freq= 1,\n",
    "                            feature_fraction= 0.5939383574598411,\n",
    "                          )\n",
    "}\n",
    "for i in range(N_fold):\n",
    "    train(model_dict, 'lgbm')"
   ]
  },
  {
   "cell_type": "code",
   "execution_count": 7,
   "id": "2c65bfc6",
   "metadata": {
    "execution": {
     "iopub.execute_input": "2023-11-14T22:25:29.824183Z",
     "iopub.status.busy": "2023-11-14T22:25:29.823640Z",
     "iopub.status.idle": "2023-11-14T22:25:29.847922Z",
     "shell.execute_reply": "2023-11-14T22:25:29.847190Z"
    },
    "papermill": {
     "duration": 0.030238,
     "end_time": "2023-11-14T22:25:29.850231",
     "exception": false,
     "start_time": "2023-11-14T22:25:29.819993",
     "status": "completed"
    },
    "tags": []
   },
   "outputs": [],
   "source": [
    "import optiver2023\n",
    "env = optiver2023.make_env()\n",
    "iter_test = env.iter_test()"
   ]
  },
  {
   "cell_type": "code",
   "execution_count": 8,
   "id": "507ad533",
   "metadata": {
    "execution": {
     "iopub.execute_input": "2023-11-14T22:25:29.858052Z",
     "iopub.status.busy": "2023-11-14T22:25:29.857386Z",
     "iopub.status.idle": "2023-11-14T22:26:06.339998Z",
     "shell.execute_reply": "2023-11-14T22:26:06.339190Z"
    },
    "papermill": {
     "duration": 36.488956,
     "end_time": "2023-11-14T22:26:06.342273",
     "exception": false,
     "start_time": "2023-11-14T22:25:29.853317",
     "status": "completed"
    },
    "tags": []
   },
   "outputs": [
    {
     "name": "stdout",
     "output_type": "stream",
     "text": [
      "This version of the API is not optimized and should not be used to estimate the runtime of your code on the hidden test set.\n"
     ]
    }
   ],
   "source": [
    "for (test, revealed_targets, sample_prediction) in iter_test:\n",
    "    st = test.sort_values(['stock_id', 'date_id', 'seconds_in_bucket']).copy(deep=True)\n",
    "    st = add_targets_test(st, revealed_targets)\n",
    "    \n",
    "    feat = generate_features(st)\n",
    "    \n",
    "    pred = (np.mean([model.predict(feat.values) for model in models], 0))\n",
    "    sample_prediction['target'] = pred\n",
    "    env.predict(sample_prediction)"
   ]
  }
 ],
 "metadata": {
  "kernelspec": {
   "display_name": "Python 3",
   "language": "python",
   "name": "python3"
  },
  "language_info": {
   "codemirror_mode": {
    "name": "ipython",
    "version": 3
   },
   "file_extension": ".py",
   "mimetype": "text/x-python",
   "name": "python",
   "nbconvert_exporter": "python",
   "pygments_lexer": "ipython3",
   "version": "3.10.12"
  },
  "papermill": {
   "default_parameters": {},
   "duration": 45.200112,
   "end_time": "2023-11-14T22:26:07.065693",
   "environment_variables": {},
   "exception": null,
   "input_path": "__notebook__.ipynb",
   "output_path": "__notebook__.ipynb",
   "parameters": {},
   "start_time": "2023-11-14T22:25:21.865581",
   "version": "2.4.0"
  }
 },
 "nbformat": 4,
 "nbformat_minor": 5
}
