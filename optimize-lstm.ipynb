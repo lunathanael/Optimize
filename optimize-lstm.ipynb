{
 "cells": [
  {
   "cell_type": "code",
   "execution_count": 1,
   "id": "b25e2a27",
   "metadata": {
    "_cell_guid": "b1076dfc-b9ad-4769-8c92-a6c4dae69d19",
    "_uuid": "8f2839f25d086af736a60e9eeb907d3b93b6e0e5",
    "execution": {
     "iopub.execute_input": "2023-10-29T20:12:29.282225Z",
     "iopub.status.busy": "2023-10-29T20:12:29.281758Z",
     "iopub.status.idle": "2023-10-29T20:12:29.323267Z",
     "shell.execute_reply": "2023-10-29T20:12:29.321879Z"
    },
    "papermill": {
     "duration": 0.048708,
     "end_time": "2023-10-29T20:12:29.326306",
     "exception": false,
     "start_time": "2023-10-29T20:12:29.277598",
     "status": "completed"
    },
    "tags": []
   },
   "outputs": [
    {
     "name": "stdout",
     "output_type": "stream",
     "text": [
      "/kaggle/input/optiver-trading-at-the-close/public_timeseries_testing_util.py\n",
      "/kaggle/input/optiver-trading-at-the-close/train.csv\n",
      "/kaggle/input/optiver-trading-at-the-close/example_test_files/sample_submission.csv\n",
      "/kaggle/input/optiver-trading-at-the-close/example_test_files/revealed_targets.csv\n",
      "/kaggle/input/optiver-trading-at-the-close/example_test_files/test.csv\n",
      "/kaggle/input/optiver-trading-at-the-close/optiver2023/competition.cpython-310-x86_64-linux-gnu.so\n",
      "/kaggle/input/optiver-trading-at-the-close/optiver2023/__init__.py\n",
      "/kaggle/input/testing-data-set/testing_data_set.csv\n"
     ]
    }
   ],
   "source": [
    "\n",
    "import os\n",
    "for dirname, _, filenames in os.walk('/kaggle/input'):\n",
    "    for filename in filenames:\n",
    "        print(os.path.join(dirname, filename))\n",
    "\n"
   ]
  },
  {
   "cell_type": "code",
   "execution_count": 2,
   "id": "da680c8d",
   "metadata": {
    "execution": {
     "iopub.execute_input": "2023-10-29T20:12:29.334722Z",
     "iopub.status.busy": "2023-10-29T20:12:29.334308Z",
     "iopub.status.idle": "2023-10-29T23:49:47.418338Z",
     "shell.execute_reply": "2023-10-29T23:49:47.416781Z"
    },
    "papermill": {
     "duration": 13038.093127,
     "end_time": "2023-10-29T23:49:47.421754",
     "exception": false,
     "start_time": "2023-10-29T20:12:29.328627",
     "status": "completed"
    },
    "tags": []
   },
   "outputs": [
    {
     "name": "stdout",
     "output_type": "stream",
     "text": [
      "Epoch 1/10\n",
      "130950/130950 [==============================] - 1169s 9ms/step - loss: nan\n",
      "Epoch 2/10\n",
      "130950/130950 [==============================] - 1128s 9ms/step - loss: nan\n",
      "Epoch 3/10\n",
      "130950/130950 [==============================] - 1232s 9ms/step - loss: nan\n",
      "Epoch 4/10\n",
      "130950/130950 [==============================] - 1305s 10ms/step - loss: nan\n",
      "Epoch 5/10\n",
      "130950/130950 [==============================] - 1312s 10ms/step - loss: nan\n",
      "Epoch 6/10\n",
      "130950/130950 [==============================] - 1238s 9ms/step - loss: nan\n",
      "Epoch 7/10\n",
      "130950/130950 [==============================] - 1326s 10ms/step - loss: nan\n",
      "Epoch 8/10\n",
      "130950/130950 [==============================] - 1373s 10ms/step - loss: nan\n",
      "Epoch 9/10\n",
      "130950/130950 [==============================] - 1313s 10ms/step - loss: nan\n",
      "Epoch 10/10\n",
      "130950/130950 [==============================] - 1277s 10ms/step - loss: nan\n",
      "32738/32738 [==============================] - 129s 4ms/step - loss: nan\n",
      "Test Loss: nan\n",
      "32738/32738 [==============================] - 126s 4ms/step\n"
     ]
    }
   ],
   "source": [
    "# lib import \n",
    "import numpy as np\n",
    "import pandas as pd\n",
    "import tensorflow as tf\n",
    "from sklearn.model_selection import train_test_split\n",
    "from sklearn.preprocessing import StandardScaler\n",
    "from tensorflow.keras.models import Sequential\n",
    "from tensorflow.keras.layers import LSTM, Dense\n",
    "\n",
    "# load dataset \n",
    "data = pd.read_csv('/kaggle/input/optiver-trading-at-the-close/train.csv')\n",
    "\n",
    "# idk apparently you have to choose a column as the one that is the closting price so i chose near_price i could be wrong\n",
    "closing_price_column_name = 'near_price'\n",
    "\n",
    "# yeah define the column i chose\n",
    "target = data[closing_price_column_name]\n",
    "data = data.drop(closing_price_column_name, axis=1)\n",
    "\n",
    "# split data into train and test sets\n",
    "X_train, X_test, y_train, y_test = train_test_split(data, target, test_size=0.2, random_state=42)\n",
    "\n",
    "# input features standardized \n",
    "scaler = StandardScaler()\n",
    "X_train = scaler.fit_transform(X_train)\n",
    "X_test = scaler.transform(X_test)\n",
    "\n",
    "# define lstm model \n",
    "model = Sequential()\n",
    "model.add(LSTM(50, activation='relu', input_shape=(X_train.shape[1], 1)))\n",
    "model.add(Dense(1))\n",
    "model.compile(optimizer='adam', loss='mean_squared_error')\n",
    "\n",
    "# reshape input data for model assuming a time series format\n",
    "X_train = np.reshape(X_train, (X_train.shape[0], X_train.shape[1], 1))\n",
    "X_test = np.reshape(X_test, (X_test.shape[0], X_test.shape[1], 1))\n",
    "\n",
    "# train\n",
    "model.fit(X_train, y_train, epochs=10, batch_size=32)\n",
    "\n",
    "# evaluate\n",
    "loss = model.evaluate(X_test, y_test)\n",
    "print(f'Test Loss: {loss}')\n",
    "\n",
    "# predict\n",
    "predictions = model.predict(X_test)\n"
   ]
  }
 ],
 "metadata": {
  "kernelspec": {
   "display_name": "Python 3",
   "language": "python",
   "name": "python3"
  },
  "language_info": {
   "codemirror_mode": {
    "name": "ipython",
    "version": 3
   },
   "file_extension": ".py",
   "mimetype": "text/x-python",
   "name": "python",
   "nbconvert_exporter": "python",
   "pygments_lexer": "ipython3",
   "version": "3.10.12"
  },
  "papermill": {
   "default_parameters": {},
   "duration": 13069.489129,
   "end_time": "2023-10-29T23:50:14.774641",
   "environment_variables": {},
   "exception": null,
   "input_path": "__notebook__.ipynb",
   "output_path": "__notebook__.ipynb",
   "parameters": {},
   "start_time": "2023-10-29T20:12:25.285512",
   "version": "2.4.0"
  }
 },
 "nbformat": 4,
 "nbformat_minor": 5
}
