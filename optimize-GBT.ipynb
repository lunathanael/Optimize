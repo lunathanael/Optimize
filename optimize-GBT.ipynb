{
 "cells": [
  {
   "cell_type": "code",
   "execution_count": 1,
   "id": "79ae3a14",
   "metadata": {
    "execution": {
     "iopub.execute_input": "2023-11-08T01:42:40.839721Z",
     "iopub.status.busy": "2023-11-08T01:42:40.839352Z",
     "iopub.status.idle": "2023-11-08T01:42:41.124548Z",
     "shell.execute_reply": "2023-11-08T01:42:41.123419Z"
    },
    "papermill": {
     "duration": 0.291337,
     "end_time": "2023-11-08T01:42:41.126835",
     "exception": false,
     "start_time": "2023-11-08T01:42:40.835498",
     "status": "completed"
    },
    "tags": []
   },
   "outputs": [],
   "source": [
    "# lib import\n",
    "import numpy as np\n",
    "import pandas as pd\n",
    "\n",
    "TRAINING = False"
   ]
  },
  {
   "cell_type": "code",
   "execution_count": 2,
   "id": "234dc080",
   "metadata": {
    "execution": {
     "iopub.execute_input": "2023-11-08T01:42:41.134862Z",
     "iopub.status.busy": "2023-11-08T01:42:41.134387Z",
     "iopub.status.idle": "2023-11-08T01:42:41.142732Z",
     "shell.execute_reply": "2023-11-08T01:42:41.141884Z"
    },
    "papermill": {
     "duration": 0.01555,
     "end_time": "2023-11-08T01:42:41.144816",
     "exception": false,
     "start_time": "2023-11-08T01:42:41.129266",
     "status": "completed"
    },
    "tags": []
   },
   "outputs": [],
   "source": [
    "def generate_features(df):\n",
    "    features = ['seconds_in_bucket', 'imbalance_buy_sell_flag',\n",
    "               'imbalance_size', 'matched_size', 'bid_size', 'ask_size',\n",
    "                'reference_price','far_price', 'near_price', 'ask_price', 'bid_price', 'wap',\n",
    "                'imb_s1', 'imb_s2'\n",
    "               ]\n",
    "\n",
    "    df['imb_s1'] = df.eval('(bid_size-ask_size)/(bid_size+ask_size)')\n",
    "    df['imb_s2'] = df.eval('(imbalance_size-matched_size)/(matched_size+imbalance_size)')\n",
    "\n",
    "    prices = ['reference_price','far_price', 'near_price', 'ask_price', 'bid_price', 'wap']\n",
    "\n",
    "    for i,a in enumerate(prices):\n",
    "        for j,b in enumerate(prices):\n",
    "            if i>j:\n",
    "                df[f'{a}_{b}_imb'] = df.eval(f'({a}-{b})/({a}+{b})')\n",
    "                features.append(f'{a}_{b}_imb')\n",
    "\n",
    "    for i,a in enumerate(prices):\n",
    "        for j,b in enumerate(prices):\n",
    "            for k,c in enumerate(prices):\n",
    "                if i>j and j>k:\n",
    "                    max_ = df[[a,b,c]].max(axis=1)\n",
    "                    min_ = df[[a,b,c]].min(axis=1)\n",
    "                    mid_ = df[[a,b,c]].sum(axis=1)-min_-max_\n",
    "\n",
    "                    df[f'{a}_{b}_{c}_imb2'] = (max_-mid_)/(mid_-min_)\n",
    "                    features.append(f'{a}_{b}_{c}_imb2')\n",
    "\n",
    "    return df[features]"
   ]
  },
  {
   "cell_type": "code",
   "execution_count": 3,
   "id": "d39bbcc1",
   "metadata": {
    "execution": {
     "iopub.execute_input": "2023-11-08T01:42:41.151265Z",
     "iopub.status.busy": "2023-11-08T01:42:41.150864Z",
     "iopub.status.idle": "2023-11-08T01:42:41.156364Z",
     "shell.execute_reply": "2023-11-08T01:42:41.155274Z"
    },
    "papermill": {
     "duration": 0.010674,
     "end_time": "2023-11-08T01:42:41.158227",
     "exception": false,
     "start_time": "2023-11-08T01:42:41.147553",
     "status": "completed"
    },
    "tags": []
   },
   "outputs": [],
   "source": [
    "if TRAINING:\n",
    "    # load dataset \n",
    "    df_train = pd.read_csv('/kaggle/input/optiver-trading-at-the-close/train.csv')\n",
    "    df_features = generate_features(df_train)\n",
    "    \n",
    "    X = df_features.values\n",
    "    Y = df_train['target'].values\n",
    "    \n",
    "    \n",
    "    X = X[np.isfinite(Y)]\n",
    "    Y = Y[np.isfinite(Y)]\n",
    "    index = np.arange(len(X))"
   ]
  },
  {
   "cell_type": "code",
   "execution_count": 4,
   "id": "1039e16a",
   "metadata": {
    "_kg_hide-output": true,
    "execution": {
     "iopub.execute_input": "2023-11-08T01:42:41.164079Z",
     "iopub.status.busy": "2023-11-08T01:42:41.163173Z",
     "iopub.status.idle": "2023-11-08T01:42:44.869701Z",
     "shell.execute_reply": "2023-11-08T01:42:44.868932Z"
    },
    "papermill": {
     "duration": 3.711386,
     "end_time": "2023-11-08T01:42:44.871734",
     "exception": false,
     "start_time": "2023-11-08T01:42:41.160348",
     "status": "completed"
    },
    "tags": []
   },
   "outputs": [],
   "source": [
    "import lightgbm as lgb \n",
    "import joblib\n",
    "import os\n",
    "\n",
    "\n",
    "models = []\n",
    "\n",
    "# test to train ratio\n",
    "N_fold = 5\n",
    "\n",
    "os.system('mkdir models')\n",
    "\n",
    "#model_path ='/kaggle/input/testing_data_set/models'\n",
    "model_path ='/kaggle/input/optimize'\n",
    "\n",
    "def train(model_dict, modelname='lgbm'):\n",
    "    if TRAINING:\n",
    "        model = model_dict[modelname]\n",
    "        model.fit(X[index%N_fold!=i], Y[index%N_fold!=i],\n",
    "          eval_set=(X[index%N_fold==i], Y[index%N_fold==i]),\n",
    "          early_stopping_rounds=100,\n",
    "          verbose = 10\n",
    "         )\n",
    "        models.append(model)\n",
    "        joblib.dump(model, f'./models/{modelname}_{i}.model')\n",
    "    else:\n",
    "        models.append(joblib.load(f'{model_path}/{modelname}_{i}.model'))\n",
    "\n",
    "\n",
    "        \n",
    "model_dict = {\n",
    "    'lgbm': lgb.LGBMRegressor(objective='regression_l1',\n",
    "                           colsample_bytree=0.7019911744574896,\n",
    "                           learning_rate=0.022635758411078528,\n",
    "                           max_bin=511,\n",
    "                           min_child_samples=2,\n",
    "                           n_estimators=4797,\n",
    "                           num_leaves=122,\n",
    "                           reg_alpha=0.004252223402511765,\n",
    "                           reg_lambda=0.11288241427227624\n",
    "                          ),\n",
    "}\n",
    "for i in range(N_fold):\n",
    "    train(model_dict, 'lgbm')"
   ]
  },
  {
   "cell_type": "code",
   "execution_count": 5,
   "id": "d621a7ac",
   "metadata": {
    "execution": {
     "iopub.execute_input": "2023-11-08T01:42:44.878060Z",
     "iopub.status.busy": "2023-11-08T01:42:44.877098Z",
     "iopub.status.idle": "2023-11-08T01:42:44.896291Z",
     "shell.execute_reply": "2023-11-08T01:42:44.895322Z"
    },
    "papermill": {
     "duration": 0.024797,
     "end_time": "2023-11-08T01:42:44.898772",
     "exception": false,
     "start_time": "2023-11-08T01:42:44.873975",
     "status": "completed"
    },
    "tags": []
   },
   "outputs": [],
   "source": [
    "import optiver2023\n",
    "env = optiver2023.make_env()\n",
    "iter_test = env.iter_test()"
   ]
  },
  {
   "cell_type": "code",
   "execution_count": 6,
   "id": "878fe0ee",
   "metadata": {
    "execution": {
     "iopub.execute_input": "2023-11-08T01:42:44.904078Z",
     "iopub.status.busy": "2023-11-08T01:42:44.903826Z",
     "iopub.status.idle": "2023-11-08T01:43:08.815860Z",
     "shell.execute_reply": "2023-11-08T01:43:08.814894Z"
    },
    "papermill": {
     "duration": 23.91714,
     "end_time": "2023-11-08T01:43:08.818086",
     "exception": false,
     "start_time": "2023-11-08T01:42:44.900946",
     "status": "completed"
    },
    "tags": []
   },
   "outputs": [
    {
     "name": "stdout",
     "output_type": "stream",
     "text": [
      "This version of the API is not optimized and should not be used to estimate the runtime of your code on the hidden test set.\n"
     ]
    }
   ],
   "source": [
    "for (test, revealed_targets, sample_prediction) in iter_test:\n",
    "    feat = generate_features(test)\n",
    "    \n",
    "    sample_prediction['target'] = np.mean([model.predict(feat) for model in models], 0)\n",
    "    env.predict(sample_prediction)"
   ]
  }
 ],
 "metadata": {
  "kernelspec": {
   "display_name": "Python 3",
   "language": "python",
   "name": "python3"
  },
  "language_info": {
   "codemirror_mode": {
    "name": "ipython",
    "version": 3
   },
   "file_extension": ".py",
   "mimetype": "text/x-python",
   "name": "python",
   "nbconvert_exporter": "python",
   "pygments_lexer": "ipython3",
   "version": "3.10.12"
  },
  "papermill": {
   "default_parameters": {},
   "duration": 31.191206,
   "end_time": "2023-11-08T01:43:09.340305",
   "environment_variables": {},
   "exception": null,
   "input_path": "__notebook__.ipynb",
   "output_path": "__notebook__.ipynb",
   "parameters": {},
   "start_time": "2023-11-08T01:42:38.149099",
   "version": "2.4.0"
  }
 },
 "nbformat": 4,
 "nbformat_minor": 5
}
