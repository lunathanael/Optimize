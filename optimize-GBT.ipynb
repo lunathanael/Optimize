{
 "cells": [
  {
   "cell_type": "code",
   "execution_count": 1,
   "id": "3621e0bc",
   "metadata": {
    "execution": {
     "iopub.execute_input": "2023-11-08T04:08:32.298230Z",
     "iopub.status.busy": "2023-11-08T04:08:32.297865Z",
     "iopub.status.idle": "2023-11-08T04:08:32.613034Z",
     "shell.execute_reply": "2023-11-08T04:08:32.612125Z"
    },
    "papermill": {
     "duration": 0.322157,
     "end_time": "2023-11-08T04:08:32.615282",
     "exception": false,
     "start_time": "2023-11-08T04:08:32.293125",
     "status": "completed"
    },
    "tags": []
   },
   "outputs": [],
   "source": [
    "# lib import\n",
    "import numpy as np\n",
    "import pandas as pd\n",
    "\n",
    "TRAINING = False"
   ]
  },
  {
   "cell_type": "code",
   "execution_count": 2,
   "id": "06bf7674",
   "metadata": {
    "execution": {
     "iopub.execute_input": "2023-11-08T04:08:32.623181Z",
     "iopub.status.busy": "2023-11-08T04:08:32.622738Z",
     "iopub.status.idle": "2023-11-08T04:08:32.631267Z",
     "shell.execute_reply": "2023-11-08T04:08:32.630477Z"
    },
    "papermill": {
     "duration": 0.015592,
     "end_time": "2023-11-08T04:08:32.633234",
     "exception": false,
     "start_time": "2023-11-08T04:08:32.617642",
     "status": "completed"
    },
    "tags": []
   },
   "outputs": [],
   "source": [
    "def generate_features(df):\n",
    "    features = ['seconds_in_bucket', 'imbalance_buy_sell_flag',\n",
    "               'imbalance_size', 'matched_size', 'bid_size', 'ask_size',\n",
    "                'reference_price','far_price', 'near_price', 'ask_price', 'bid_price', 'wap',\n",
    "                'imb_s1', 'imb_s2'\n",
    "               ]\n",
    "\n",
    "    df['imb_s1'] = df.eval('(bid_size-ask_size)/(bid_size+ask_size)')\n",
    "    df['imb_s2'] = df.eval('(imbalance_size-matched_size)/(matched_size+imbalance_size)')\n",
    "\n",
    "    prices = ['reference_price','far_price', 'near_price', 'ask_price', 'bid_price', 'wap']\n",
    "\n",
    "    for i,a in enumerate(prices):\n",
    "        for j,b in enumerate(prices):\n",
    "            if i>j:\n",
    "                df[f'{a}_{b}_imb'] = df.eval(f'({a}-{b})/({a}+{b})')\n",
    "                features.append(f'{a}_{b}_imb')\n",
    "\n",
    "    for i,a in enumerate(prices):\n",
    "        for j,b in enumerate(prices):\n",
    "            for k,c in enumerate(prices):\n",
    "                if i>j and j>k:\n",
    "                    max_ = df[[a,b,c]].max(axis=1)\n",
    "                    min_ = df[[a,b,c]].min(axis=1)\n",
    "                    mid_ = df[[a,b,c]].sum(axis=1)-min_-max_\n",
    "\n",
    "                    df[f'{a}_{b}_{c}_imb2'] = (max_-mid_)/(mid_-min_)\n",
    "                    features.append(f'{a}_{b}_{c}_imb2')\n",
    "\n",
    "    return df[features]"
   ]
  },
  {
   "cell_type": "code",
   "execution_count": 3,
   "id": "cb2d69cf",
   "metadata": {
    "execution": {
     "iopub.execute_input": "2023-11-08T04:08:32.640352Z",
     "iopub.status.busy": "2023-11-08T04:08:32.639758Z",
     "iopub.status.idle": "2023-11-08T04:08:32.645282Z",
     "shell.execute_reply": "2023-11-08T04:08:32.644346Z"
    },
    "papermill": {
     "duration": 0.011644,
     "end_time": "2023-11-08T04:08:32.647115",
     "exception": false,
     "start_time": "2023-11-08T04:08:32.635471",
     "status": "completed"
    },
    "tags": []
   },
   "outputs": [],
   "source": [
    "if TRAINING:\n",
    "    # load dataset \n",
    "    df_train = pd.read_csv('/kaggle/input/optiver-trading-at-the-close/train.csv')\n",
    "    df_features = generate_features(df_train)\n",
    "    \n",
    "    X = df_features.values\n",
    "    Y = df_train['target'].values\n",
    "    \n",
    "    \n",
    "    X = X[np.isfinite(Y)]\n",
    "    Y = Y[np.isfinite(Y)]\n",
    "    index = np.arange(len(X))"
   ]
  },
  {
   "cell_type": "code",
   "execution_count": 4,
   "id": "8d0184d1",
   "metadata": {
    "_kg_hide-output": true,
    "execution": {
     "iopub.execute_input": "2023-11-08T04:08:32.652387Z",
     "iopub.status.busy": "2023-11-08T04:08:32.652027Z",
     "iopub.status.idle": "2023-11-08T04:08:35.262913Z",
     "shell.execute_reply": "2023-11-08T04:08:35.262083Z"
    },
    "papermill": {
     "duration": 2.615944,
     "end_time": "2023-11-08T04:08:35.265159",
     "exception": false,
     "start_time": "2023-11-08T04:08:32.649215",
     "status": "completed"
    },
    "tags": []
   },
   "outputs": [],
   "source": [
    "import lightgbm as lgb \n",
    "import joblib\n",
    "import os\n",
    "\n",
    "\n",
    "models = []\n",
    "\n",
    "# test to train ratio\n",
    "N_fold = 5\n",
    "\n",
    "os.system('mkdir models')\n",
    "\n",
    "#model_path ='/kaggle/input/testing_data_set/models'\n",
    "model_path ='/kaggle/input/optimize'\n",
    "\n",
    "def train(model_dict, modelname='lgbm'):\n",
    "    if TRAINING:\n",
    "        model = model_dict[modelname]\n",
    "        model.fit(X[index%N_fold!=i], Y[index%N_fold!=i],\n",
    "          eval_set=(X[index%N_fold==i], Y[index%N_fold==i]),\n",
    "          early_stopping_rounds=100,\n",
    "          verbose = 10\n",
    "         )\n",
    "        models.append(model)\n",
    "        joblib.dump(model, f'./models/{modelname}_{i}.model')\n",
    "    else:\n",
    "        models.append(joblib.load(f'{model_path}/{modelname}_{i}.model'))\n",
    "\n",
    "\n",
    "        \n",
    "model_dict = {\n",
    "    'lgbm': lgb.LGBMRegressor(objective='regression_l1',\n",
    "                           n_estimators=500,\n",
    "                          ),\n",
    "}\n",
    "for i in range(N_fold):\n",
    "    train(model_dict, 'lgbm')"
   ]
  },
  {
   "cell_type": "code",
   "execution_count": 5,
   "id": "2aacb6e3",
   "metadata": {
    "execution": {
     "iopub.execute_input": "2023-11-08T04:08:35.271605Z",
     "iopub.status.busy": "2023-11-08T04:08:35.270561Z",
     "iopub.status.idle": "2023-11-08T04:08:35.294575Z",
     "shell.execute_reply": "2023-11-08T04:08:35.293384Z"
    },
    "papermill": {
     "duration": 0.029303,
     "end_time": "2023-11-08T04:08:35.296862",
     "exception": false,
     "start_time": "2023-11-08T04:08:35.267559",
     "status": "completed"
    },
    "tags": []
   },
   "outputs": [],
   "source": [
    "import optiver2023\n",
    "env = optiver2023.make_env()\n",
    "iter_test = env.iter_test()"
   ]
  },
  {
   "cell_type": "code",
   "execution_count": 6,
   "id": "44fb9a32",
   "metadata": {
    "execution": {
     "iopub.execute_input": "2023-11-08T04:08:35.303952Z",
     "iopub.status.busy": "2023-11-08T04:08:35.303358Z",
     "iopub.status.idle": "2023-11-08T04:08:52.256279Z",
     "shell.execute_reply": "2023-11-08T04:08:52.255571Z"
    },
    "papermill": {
     "duration": 16.959463,
     "end_time": "2023-11-08T04:08:52.258711",
     "exception": false,
     "start_time": "2023-11-08T04:08:35.299248",
     "status": "completed"
    },
    "tags": []
   },
   "outputs": [
    {
     "name": "stdout",
     "output_type": "stream",
     "text": [
      "This version of the API is not optimized and should not be used to estimate the runtime of your code on the hidden test set.\n"
     ]
    }
   ],
   "source": [
    "model = models[len(models)-1]\n",
    "for (test, revealed_targets, sample_prediction) in iter_test:\n",
    "    feat = generate_features(test)\n",
    "    \n",
    "    sample_prediction['target'] = model.predict(feat)\n",
    "    env.predict(sample_prediction)"
   ]
  }
 ],
 "metadata": {
  "kernelspec": {
   "display_name": "Python 3",
   "language": "python",
   "name": "python3"
  },
  "language_info": {
   "codemirror_mode": {
    "name": "ipython",
    "version": 3
   },
   "file_extension": ".py",
   "mimetype": "text/x-python",
   "name": "python",
   "nbconvert_exporter": "python",
   "pygments_lexer": "ipython3",
   "version": "3.10.12"
  },
  "papermill": {
   "default_parameters": {},
   "duration": 23.52704,
   "end_time": "2023-11-08T04:08:52.983018",
   "environment_variables": {},
   "exception": null,
   "input_path": "__notebook__.ipynb",
   "output_path": "__notebook__.ipynb",
   "parameters": {},
   "start_time": "2023-11-08T04:08:29.455978",
   "version": "2.4.0"
  }
 },
 "nbformat": 4,
 "nbformat_minor": 5
}
