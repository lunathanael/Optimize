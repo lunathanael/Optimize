{
 "cells": [
  {
   "cell_type": "code",
   "execution_count": 1,
   "id": "22fa2a9c",
   "metadata": {
    "execution": {
     "iopub.execute_input": "2023-11-08T02:09:26.161156Z",
     "iopub.status.busy": "2023-11-08T02:09:26.160746Z",
     "iopub.status.idle": "2023-11-08T02:09:27.234856Z",
     "shell.execute_reply": "2023-11-08T02:09:27.233613Z"
    },
    "papermill": {
     "duration": 1.081951,
     "end_time": "2023-11-08T02:09:27.237797",
     "exception": false,
     "start_time": "2023-11-08T02:09:26.155846",
     "status": "completed"
    },
    "tags": []
   },
   "outputs": [],
   "source": [
    "# lib import\n",
    "import numpy as np\n",
    "import pandas as pd\n",
    "\n",
    "TRAINING = False"
   ]
  },
  {
   "cell_type": "code",
   "execution_count": 2,
   "id": "d6e69396",
   "metadata": {
    "execution": {
     "iopub.execute_input": "2023-11-08T02:09:27.249560Z",
     "iopub.status.busy": "2023-11-08T02:09:27.248317Z",
     "iopub.status.idle": "2023-11-08T02:09:27.260528Z",
     "shell.execute_reply": "2023-11-08T02:09:27.258265Z"
    },
    "papermill": {
     "duration": 0.023308,
     "end_time": "2023-11-08T02:09:27.264881",
     "exception": false,
     "start_time": "2023-11-08T02:09:27.241573",
     "status": "completed"
    },
    "tags": []
   },
   "outputs": [],
   "source": [
    "def generate_features(df):\n",
    "    features = ['seconds_in_bucket', 'imbalance_buy_sell_flag',\n",
    "               'imbalance_size', 'matched_size', 'bid_size', 'ask_size',\n",
    "                'reference_price','far_price', 'near_price', 'ask_price', 'bid_price', 'wap',\n",
    "                'imb_s1', 'imb_s2'\n",
    "               ]\n",
    "\n",
    "    df['imb_s1'] = df.eval('(bid_size-ask_size)/(bid_size+ask_size)')\n",
    "    df['imb_s2'] = df.eval('(imbalance_size-matched_size)/(matched_size+imbalance_size)')\n",
    "\n",
    "    prices = ['reference_price','far_price', 'near_price', 'ask_price', 'bid_price', 'wap']\n",
    "\n",
    "    for i,a in enumerate(prices):\n",
    "        for j,b in enumerate(prices):\n",
    "            if i>j:\n",
    "                df[f'{a}_{b}_imb'] = df.eval(f'({a}-{b})/({a}+{b})')\n",
    "                features.append(f'{a}_{b}_imb')\n",
    "\n",
    "    for i,a in enumerate(prices):\n",
    "        for j,b in enumerate(prices):\n",
    "            for k,c in enumerate(prices):\n",
    "                if i>j and j>k:\n",
    "                    max_ = df[[a,b,c]].max(axis=1)\n",
    "                    min_ = df[[a,b,c]].min(axis=1)\n",
    "                    mid_ = df[[a,b,c]].sum(axis=1)-min_-max_\n",
    "\n",
    "                    df[f'{a}_{b}_{c}_imb2'] = (max_-mid_)/(mid_-min_)\n",
    "                    features.append(f'{a}_{b}_{c}_imb2')\n",
    "\n",
    "    return df[features]"
   ]
  },
  {
   "cell_type": "code",
   "execution_count": 3,
   "id": "977d56c8",
   "metadata": {
    "execution": {
     "iopub.execute_input": "2023-11-08T02:09:27.272938Z",
     "iopub.status.busy": "2023-11-08T02:09:27.271725Z",
     "iopub.status.idle": "2023-11-08T02:09:27.280137Z",
     "shell.execute_reply": "2023-11-08T02:09:27.278225Z"
    },
    "papermill": {
     "duration": 0.016241,
     "end_time": "2023-11-08T02:09:27.284161",
     "exception": false,
     "start_time": "2023-11-08T02:09:27.267920",
     "status": "completed"
    },
    "tags": []
   },
   "outputs": [],
   "source": [
    "if TRAINING:\n",
    "    # load dataset \n",
    "    df_train = pd.read_csv('/kaggle/input/optiver-trading-at-the-close/train.csv')\n",
    "    df_features = generate_features(df_train)\n",
    "    \n",
    "    X = df_features.values\n",
    "    Y = df_train['target'].values\n",
    "    \n",
    "    \n",
    "    X = X[np.isfinite(Y)]\n",
    "    Y = Y[np.isfinite(Y)]\n",
    "    index = np.arange(len(X))"
   ]
  },
  {
   "cell_type": "code",
   "execution_count": 4,
   "id": "c927436e",
   "metadata": {
    "_kg_hide-output": true,
    "execution": {
     "iopub.execute_input": "2023-11-08T02:09:27.291154Z",
     "iopub.status.busy": "2023-11-08T02:09:27.290726Z",
     "iopub.status.idle": "2023-11-08T02:09:32.288072Z",
     "shell.execute_reply": "2023-11-08T02:09:32.286033Z"
    },
    "papermill": {
     "duration": 5.005119,
     "end_time": "2023-11-08T02:09:32.291937",
     "exception": false,
     "start_time": "2023-11-08T02:09:27.286818",
     "status": "completed"
    },
    "tags": []
   },
   "outputs": [],
   "source": [
    "import lightgbm as lgb \n",
    "import joblib\n",
    "import os\n",
    "\n",
    "\n",
    "models = []\n",
    "\n",
    "# test to train ratio\n",
    "N_fold = 5\n",
    "\n",
    "os.system('mkdir models')\n",
    "\n",
    "#model_path ='/kaggle/input/testing_data_set/models'\n",
    "model_path ='/kaggle/input/optimize'\n",
    "\n",
    "def train(model_dict, modelname='lgbm'):\n",
    "    if TRAINING:\n",
    "        model = model_dict[modelname]\n",
    "        model.fit(X[index%N_fold!=i], Y[index%N_fold!=i],\n",
    "          eval_set=(X[index%N_fold==i], Y[index%N_fold==i]),\n",
    "          early_stopping_rounds=100,\n",
    "          verbose = 10\n",
    "         )\n",
    "        models.append(model)\n",
    "        joblib.dump(model, f'./models/{modelname}_{i}.model')\n",
    "    else:\n",
    "        models.append(joblib.load(f'{model_path}/{modelname}_{i}.model'))\n",
    "\n",
    "\n",
    "        \n",
    "model_dict = {\n",
    "    'lgbm': lgb.LGBMRegressor(objective='regression_l1',\n",
    "                           colsample_bytree=0.7019911744574896,\n",
    "                           learning_rate=0.022635758411078528,\n",
    "                           max_bin=511,\n",
    "                           min_child_samples=2,\n",
    "                           n_estimators=4797,\n",
    "                           num_leaves=122,\n",
    "                           reg_alpha=0.004252223402511765,\n",
    "                           reg_lambda=0.11288241427227624\n",
    "                          ),\n",
    "}\n",
    "for i in range(N_fold):\n",
    "    train(model_dict, 'lgbm')"
   ]
  },
  {
   "cell_type": "code",
   "execution_count": 5,
   "id": "474b3da7",
   "metadata": {
    "execution": {
     "iopub.execute_input": "2023-11-08T02:09:32.299637Z",
     "iopub.status.busy": "2023-11-08T02:09:32.299137Z",
     "iopub.status.idle": "2023-11-08T02:09:32.328886Z",
     "shell.execute_reply": "2023-11-08T02:09:32.327192Z"
    },
    "papermill": {
     "duration": 0.036526,
     "end_time": "2023-11-08T02:09:32.331531",
     "exception": false,
     "start_time": "2023-11-08T02:09:32.295005",
     "status": "completed"
    },
    "tags": []
   },
   "outputs": [],
   "source": [
    "import optiver2023\n",
    "env = optiver2023.make_env()\n",
    "iter_test = env.iter_test()"
   ]
  },
  {
   "cell_type": "code",
   "execution_count": 6,
   "id": "4c2fe737",
   "metadata": {
    "execution": {
     "iopub.execute_input": "2023-11-08T02:09:32.338346Z",
     "iopub.status.busy": "2023-11-08T02:09:32.337932Z",
     "iopub.status.idle": "2023-11-08T02:09:54.659581Z",
     "shell.execute_reply": "2023-11-08T02:09:54.658239Z"
    },
    "papermill": {
     "duration": 22.328554,
     "end_time": "2023-11-08T02:09:54.662594",
     "exception": false,
     "start_time": "2023-11-08T02:09:32.334040",
     "status": "completed"
    },
    "tags": []
   },
   "outputs": [
    {
     "name": "stdout",
     "output_type": "stream",
     "text": [
      "This version of the API is not optimized and should not be used to estimate the runtime of your code on the hidden test set.\n"
     ]
    }
   ],
   "source": [
    "model = models[len(models)-1]\n",
    "for (test, revealed_targets, sample_prediction) in iter_test:\n",
    "    feat = generate_features(test)\n",
    "    \n",
    "    sample_prediction['target'] = model.predict(feat)\n",
    "    env.predict(sample_prediction)"
   ]
  }
 ],
 "metadata": {
  "kernelspec": {
   "display_name": "Python 3",
   "language": "python",
   "name": "python3"
  },
  "language_info": {
   "codemirror_mode": {
    "name": "ipython",
    "version": 3
   },
   "file_extension": ".py",
   "mimetype": "text/x-python",
   "name": "python",
   "nbconvert_exporter": "python",
   "pygments_lexer": "ipython3",
   "version": "3.10.12"
  },
  "papermill": {
   "default_parameters": {},
   "duration": 34.556468,
   "end_time": "2023-11-08T02:09:55.489637",
   "environment_variables": {},
   "exception": null,
   "input_path": "__notebook__.ipynb",
   "output_path": "__notebook__.ipynb",
   "parameters": {},
   "start_time": "2023-11-08T02:09:20.933169",
   "version": "2.4.0"
  }
 },
 "nbformat": 4,
 "nbformat_minor": 5
}
