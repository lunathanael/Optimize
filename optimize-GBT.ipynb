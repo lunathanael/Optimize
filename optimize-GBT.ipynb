{
 "cells": [
  {
   "cell_type": "code",
   "execution_count": 1,
   "id": "907fc8e5",
   "metadata": {
    "execution": {
     "iopub.execute_input": "2023-11-08T03:22:30.300054Z",
     "iopub.status.busy": "2023-11-08T03:22:30.299270Z",
     "iopub.status.idle": "2023-11-08T03:22:30.678641Z",
     "shell.execute_reply": "2023-11-08T03:22:30.677547Z"
    },
    "papermill": {
     "duration": 0.386958,
     "end_time": "2023-11-08T03:22:30.681159",
     "exception": false,
     "start_time": "2023-11-08T03:22:30.294201",
     "status": "completed"
    },
    "tags": []
   },
   "outputs": [],
   "source": [
    "# lib import\n",
    "import numpy as np\n",
    "import pandas as pd\n",
    "\n",
    "TRAINING = False"
   ]
  },
  {
   "cell_type": "code",
   "execution_count": 2,
   "id": "3c5246d7",
   "metadata": {
    "execution": {
     "iopub.execute_input": "2023-11-08T03:22:30.690116Z",
     "iopub.status.busy": "2023-11-08T03:22:30.689577Z",
     "iopub.status.idle": "2023-11-08T03:22:30.700386Z",
     "shell.execute_reply": "2023-11-08T03:22:30.699367Z"
    },
    "papermill": {
     "duration": 0.018763,
     "end_time": "2023-11-08T03:22:30.702645",
     "exception": false,
     "start_time": "2023-11-08T03:22:30.683882",
     "status": "completed"
    },
    "tags": []
   },
   "outputs": [],
   "source": [
    "def generate_features(df):\n",
    "    features = ['seconds_in_bucket', 'imbalance_buy_sell_flag',\n",
    "               'imbalance_size', 'matched_size', 'bid_size', 'ask_size',\n",
    "                'reference_price','far_price', 'near_price', 'ask_price', 'bid_price', 'wap',\n",
    "                'imb_s1', 'imb_s2'\n",
    "               ]\n",
    "\n",
    "    df['imb_s1'] = df.eval('(bid_size-ask_size)/(bid_size+ask_size)')\n",
    "    df['imb_s2'] = df.eval('(imbalance_size-matched_size)/(matched_size+imbalance_size)')\n",
    "\n",
    "    prices = ['reference_price','far_price', 'near_price', 'ask_price', 'bid_price', 'wap']\n",
    "\n",
    "    for i,a in enumerate(prices):\n",
    "        for j,b in enumerate(prices):\n",
    "            if i>j:\n",
    "                df[f'{a}_{b}_imb'] = df.eval(f'({a}-{b})/({a}+{b})')\n",
    "                features.append(f'{a}_{b}_imb')\n",
    "\n",
    "    for i,a in enumerate(prices):\n",
    "        for j,b in enumerate(prices):\n",
    "            for k,c in enumerate(prices):\n",
    "                if i>j and j>k:\n",
    "                    max_ = df[[a,b,c]].max(axis=1)\n",
    "                    min_ = df[[a,b,c]].min(axis=1)\n",
    "                    mid_ = df[[a,b,c]].sum(axis=1)-min_-max_\n",
    "\n",
    "                    df[f'{a}_{b}_{c}_imb2'] = (max_-mid_)/(mid_-min_)\n",
    "                    features.append(f'{a}_{b}_{c}_imb2')\n",
    "\n",
    "    return df[features]"
   ]
  },
  {
   "cell_type": "code",
   "execution_count": 3,
   "id": "a120fe4c",
   "metadata": {
    "execution": {
     "iopub.execute_input": "2023-11-08T03:22:30.709626Z",
     "iopub.status.busy": "2023-11-08T03:22:30.708859Z",
     "iopub.status.idle": "2023-11-08T03:22:30.715160Z",
     "shell.execute_reply": "2023-11-08T03:22:30.713990Z"
    },
    "papermill": {
     "duration": 0.012238,
     "end_time": "2023-11-08T03:22:30.717437",
     "exception": false,
     "start_time": "2023-11-08T03:22:30.705199",
     "status": "completed"
    },
    "tags": []
   },
   "outputs": [],
   "source": [
    "if TRAINING:\n",
    "    # load dataset \n",
    "    df_train = pd.read_csv('/kaggle/input/optiver-trading-at-the-close/train.csv')\n",
    "    df_features = generate_features(df_train)\n",
    "    \n",
    "    X = df_features.values\n",
    "    Y = df_train['target'].values\n",
    "    \n",
    "    \n",
    "    X = X[np.isfinite(Y)]\n",
    "    Y = Y[np.isfinite(Y)]\n",
    "    index = np.arange(len(X))"
   ]
  },
  {
   "cell_type": "code",
   "execution_count": 4,
   "id": "5ee7ea09",
   "metadata": {
    "_kg_hide-output": true,
    "execution": {
     "iopub.execute_input": "2023-11-08T03:22:30.724579Z",
     "iopub.status.busy": "2023-11-08T03:22:30.723545Z",
     "iopub.status.idle": "2023-11-08T03:22:33.437715Z",
     "shell.execute_reply": "2023-11-08T03:22:33.436764Z"
    },
    "papermill": {
     "duration": 2.720339,
     "end_time": "2023-11-08T03:22:33.440292",
     "exception": false,
     "start_time": "2023-11-08T03:22:30.719953",
     "status": "completed"
    },
    "tags": []
   },
   "outputs": [],
   "source": [
    "import lightgbm as lgb \n",
    "import joblib\n",
    "import os\n",
    "\n",
    "\n",
    "models = []\n",
    "\n",
    "# test to train ratio\n",
    "N_fold = 5\n",
    "\n",
    "os.system('mkdir models')\n",
    "\n",
    "#model_path ='/kaggle/input/testing_data_set/models'\n",
    "model_path ='/kaggle/input/optimize'\n",
    "\n",
    "def train(model_dict, modelname='lgbm'):\n",
    "    if TRAINING:\n",
    "        model = model_dict[modelname]\n",
    "        model.fit(X[index%N_fold!=i], Y[index%N_fold!=i],\n",
    "          eval_set=(X[index%N_fold==i], Y[index%N_fold==i]),\n",
    "          early_stopping_rounds=100,\n",
    "          verbose = 10\n",
    "         )\n",
    "        models.append(model)\n",
    "        joblib.dump(model, f'./models/{modelname}_{i}.model')\n",
    "    else:\n",
    "        models.append(joblib.load(f'{model_path}/{modelname}_{i}.model'))\n",
    "\n",
    "\n",
    "        \n",
    "model_dict = {\n",
    "    'lgbm': lgb.LGBMRegressor(objective='regression_l1',\n",
    "                           n_estimators=500,\n",
    "                          ),\n",
    "}\n",
    "for i in range(N_fold):\n",
    "    train(model_dict, 'lgbm')"
   ]
  },
  {
   "cell_type": "code",
   "execution_count": 5,
   "id": "3f63fd86",
   "metadata": {
    "execution": {
     "iopub.execute_input": "2023-11-08T03:22:33.447009Z",
     "iopub.status.busy": "2023-11-08T03:22:33.446360Z",
     "iopub.status.idle": "2023-11-08T03:22:33.467207Z",
     "shell.execute_reply": "2023-11-08T03:22:33.465893Z"
    },
    "papermill": {
     "duration": 0.027009,
     "end_time": "2023-11-08T03:22:33.469852",
     "exception": false,
     "start_time": "2023-11-08T03:22:33.442843",
     "status": "completed"
    },
    "tags": []
   },
   "outputs": [],
   "source": [
    "import optiver2023\n",
    "env = optiver2023.make_env()\n",
    "iter_test = env.iter_test()"
   ]
  },
  {
   "cell_type": "code",
   "execution_count": 6,
   "id": "3c313027",
   "metadata": {
    "execution": {
     "iopub.execute_input": "2023-11-08T03:22:33.476743Z",
     "iopub.status.busy": "2023-11-08T03:22:33.476396Z",
     "iopub.status.idle": "2023-11-08T03:22:54.710142Z",
     "shell.execute_reply": "2023-11-08T03:22:54.708920Z"
    },
    "papermill": {
     "duration": 21.240577,
     "end_time": "2023-11-08T03:22:54.713006",
     "exception": false,
     "start_time": "2023-11-08T03:22:33.472429",
     "status": "completed"
    },
    "tags": []
   },
   "outputs": [
    {
     "name": "stdout",
     "output_type": "stream",
     "text": [
      "This version of the API is not optimized and should not be used to estimate the runtime of your code on the hidden test set.\n"
     ]
    }
   ],
   "source": [
    "model = models[len(models)-1]\n",
    "for (test, revealed_targets, sample_prediction) in iter_test:\n",
    "    feat = generate_features(test)\n",
    "    \n",
    "    sample_prediction['target'] = model.predict(feat)\n",
    "    env.predict(sample_prediction)"
   ]
  }
 ],
 "metadata": {
  "kernelspec": {
   "display_name": "Python 3",
   "language": "python",
   "name": "python3"
  },
  "language_info": {
   "codemirror_mode": {
    "name": "ipython",
    "version": 3
   },
   "file_extension": ".py",
   "mimetype": "text/x-python",
   "name": "python",
   "nbconvert_exporter": "python",
   "pygments_lexer": "ipython3",
   "version": "3.10.12"
  },
  "papermill": {
   "default_parameters": {},
   "duration": 28.362749,
   "end_time": "2023-11-08T03:22:55.437533",
   "environment_variables": {},
   "exception": null,
   "input_path": "__notebook__.ipynb",
   "output_path": "__notebook__.ipynb",
   "parameters": {},
   "start_time": "2023-11-08T03:22:27.074784",
   "version": "2.4.0"
  }
 },
 "nbformat": 4,
 "nbformat_minor": 5
}
